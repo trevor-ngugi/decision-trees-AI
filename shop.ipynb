{
 "cells": [
  {
   "cell_type": "code",
   "execution_count": 1,
   "id": "83af39a8",
   "metadata": {},
   "outputs": [],
   "source": [
    "import pandas as pd\n",
    "import numpy as np\n",
    "import matplotlib.pyplot as plt\n",
    "import seaborn as sbn"
   ]
  },
  {
   "cell_type": "code",
   "execution_count": 2,
   "id": "e9e17421",
   "metadata": {},
   "outputs": [],
   "source": [
    "#Loading the dataset\n",
    "shop_data = pd.read_csv(\"/home/oem/Documents/BBIT/3.2/AI/KNN/pay.csv\")"
   ]
  },
  {
   "cell_type": "code",
   "execution_count": 3,
   "id": "78f1f65a",
   "metadata": {},
   "outputs": [
    {
     "data": {
      "text/html": [
       "<div>\n",
       "<style scoped>\n",
       "    .dataframe tbody tr th:only-of-type {\n",
       "        vertical-align: middle;\n",
       "    }\n",
       "\n",
       "    .dataframe tbody tr th {\n",
       "        vertical-align: top;\n",
       "    }\n",
       "\n",
       "    .dataframe thead th {\n",
       "        text-align: right;\n",
       "    }\n",
       "</style>\n",
       "<table border=\"1\" class=\"dataframe\">\n",
       "  <thead>\n",
       "    <tr style=\"text-align: right;\">\n",
       "      <th></th>\n",
       "      <th>User ID</th>\n",
       "      <th>Gender</th>\n",
       "      <th>Age</th>\n",
       "      <th>EstimatedSalary</th>\n",
       "      <th>Purchased</th>\n",
       "    </tr>\n",
       "  </thead>\n",
       "  <tbody>\n",
       "    <tr>\n",
       "      <th>0</th>\n",
       "      <td>15624510</td>\n",
       "      <td>Male</td>\n",
       "      <td>19</td>\n",
       "      <td>19000</td>\n",
       "      <td>0</td>\n",
       "    </tr>\n",
       "    <tr>\n",
       "      <th>1</th>\n",
       "      <td>15810944</td>\n",
       "      <td>Male</td>\n",
       "      <td>35</td>\n",
       "      <td>20000</td>\n",
       "      <td>0</td>\n",
       "    </tr>\n",
       "    <tr>\n",
       "      <th>2</th>\n",
       "      <td>15668575</td>\n",
       "      <td>Female</td>\n",
       "      <td>26</td>\n",
       "      <td>43000</td>\n",
       "      <td>0</td>\n",
       "    </tr>\n",
       "    <tr>\n",
       "      <th>3</th>\n",
       "      <td>15603246</td>\n",
       "      <td>Female</td>\n",
       "      <td>27</td>\n",
       "      <td>57000</td>\n",
       "      <td>0</td>\n",
       "    </tr>\n",
       "    <tr>\n",
       "      <th>4</th>\n",
       "      <td>15804002</td>\n",
       "      <td>Male</td>\n",
       "      <td>19</td>\n",
       "      <td>76000</td>\n",
       "      <td>0</td>\n",
       "    </tr>\n",
       "    <tr>\n",
       "      <th>5</th>\n",
       "      <td>15728773</td>\n",
       "      <td>Male</td>\n",
       "      <td>27</td>\n",
       "      <td>58000</td>\n",
       "      <td>0</td>\n",
       "    </tr>\n",
       "    <tr>\n",
       "      <th>6</th>\n",
       "      <td>15598044</td>\n",
       "      <td>Female</td>\n",
       "      <td>27</td>\n",
       "      <td>84000</td>\n",
       "      <td>0</td>\n",
       "    </tr>\n",
       "    <tr>\n",
       "      <th>7</th>\n",
       "      <td>15694829</td>\n",
       "      <td>Female</td>\n",
       "      <td>32</td>\n",
       "      <td>150000</td>\n",
       "      <td>1</td>\n",
       "    </tr>\n",
       "    <tr>\n",
       "      <th>8</th>\n",
       "      <td>15600575</td>\n",
       "      <td>Male</td>\n",
       "      <td>25</td>\n",
       "      <td>33000</td>\n",
       "      <td>0</td>\n",
       "    </tr>\n",
       "    <tr>\n",
       "      <th>9</th>\n",
       "      <td>15727311</td>\n",
       "      <td>Female</td>\n",
       "      <td>35</td>\n",
       "      <td>65000</td>\n",
       "      <td>0</td>\n",
       "    </tr>\n",
       "  </tbody>\n",
       "</table>\n",
       "</div>"
      ],
      "text/plain": [
       "    User ID  Gender  Age  EstimatedSalary  Purchased\n",
       "0  15624510    Male   19            19000          0\n",
       "1  15810944    Male   35            20000          0\n",
       "2  15668575  Female   26            43000          0\n",
       "3  15603246  Female   27            57000          0\n",
       "4  15804002    Male   19            76000          0\n",
       "5  15728773    Male   27            58000          0\n",
       "6  15598044  Female   27            84000          0\n",
       "7  15694829  Female   32           150000          1\n",
       "8  15600575    Male   25            33000          0\n",
       "9  15727311  Female   35            65000          0"
      ]
     },
     "execution_count": 3,
     "metadata": {},
     "output_type": "execute_result"
    }
   ],
   "source": [
    "#Checking top 10 records of Dataset..\n",
    "shop_data.head(10)"
   ]
  },
  {
   "cell_type": "code",
   "execution_count": 4,
   "id": "7ac433af",
   "metadata": {},
   "outputs": [
    {
     "name": "stdout",
     "output_type": "stream",
     "text": [
      "<class 'pandas.core.frame.DataFrame'>\n",
      "RangeIndex: 400 entries, 0 to 399\n",
      "Data columns (total 5 columns):\n",
      " #   Column           Non-Null Count  Dtype \n",
      "---  ------           --------------  ----- \n",
      " 0   User ID          400 non-null    int64 \n",
      " 1   Gender           400 non-null    object\n",
      " 2   Age              400 non-null    int64 \n",
      " 3   EstimatedSalary  400 non-null    int64 \n",
      " 4   Purchased        400 non-null    int64 \n",
      "dtypes: int64(4), object(1)\n",
      "memory usage: 15.8+ KB\n"
     ]
    }
   ],
   "source": [
    "shop_data.info()"
   ]
  },
  {
   "cell_type": "code",
   "execution_count": 6,
   "id": "3b449c92",
   "metadata": {},
   "outputs": [
    {
     "data": {
      "text/plain": [
       "35    32\n",
       "37    20\n",
       "26    16\n",
       "41    16\n",
       "42    16\n",
       "39    15\n",
       "40    15\n",
       "48    14\n",
       "47    14\n",
       "27    13\n",
       "38    13\n",
       "28    12\n",
       "36    12\n",
       "46    12\n",
       "31    11\n",
       "30    11\n",
       "49    10\n",
       "29    10\n",
       "33     9\n",
       "32     9\n",
       "24     9\n",
       "59     7\n",
       "19     7\n",
       "45     7\n",
       "20     7\n",
       "60     7\n",
       "34     6\n",
       "23     6\n",
       "52     6\n",
       "25     6\n",
       "58     6\n",
       "53     5\n",
       "57     5\n",
       "22     5\n",
       "18     5\n",
       "21     4\n",
       "50     4\n",
       "54     4\n",
       "55     3\n",
       "56     3\n",
       "51     3\n",
       "43     3\n",
       "44     2\n",
       "Name: Age, dtype: int64"
      ]
     },
     "execution_count": 6,
     "metadata": {},
     "output_type": "execute_result"
    }
   ],
   "source": [
    "#Data points count value for each class labels..\n",
    "shop_data.Age.value_counts()"
   ]
  },
  {
   "cell_type": "code",
   "execution_count": 7,
   "id": "7efe9af5",
   "metadata": {},
   "outputs": [
    {
     "data": {
      "image/png": "[encoded data removed]",
      "text/plain": [
       "<Figure size 640x480 with 1 Axes>"
      ]
     },
     "metadata": {},
     "output_type": "display_data"
    }
   ],
   "source": [
    "#Visualizing the dataset features to find pattern to solve our task\n",
    "plt.scatter(shop_data['Age'],shop_data['EstimatedSalary'])\n",
    "plt.show()"
   ]
  },
  {
   "cell_type": "code",
   "execution_count": 8,
   "id": "99367538",
   "metadata": {},
   "outputs": [
    {
     "data": {
      "image/png": "[encoded data removed]",
      "text/plain": [
       "<Figure size 640x480 with 1 Axes>"
      ]
     },
     "metadata": {},
     "output_type": "display_data"
    }
   ],
   "source": [
    "plt.scatter(shop_data['Age'],shop_data['Purchased'])\n",
    "plt.show()"
   ]
  },
  {
   "cell_type": "code",
   "execution_count": 9,
   "id": "2cadd2df",
   "metadata": {},
   "outputs": [],
   "source": [
    "# Building Classification Model\n",
    "#Imporing few library for create Decision tree classifier and visualizing the tree structure'''\n",
    "from sklearn import tree\n",
    "import graphviz\n",
    "from sklearn.tree import DecisionTreeClassifier\n",
    "from sklearn.model_selection import train_test_split, cross_val_score"
   ]
  },
  {
   "cell_type": "code",
   "execution_count": 12,
   "id": "7b650b54",
   "metadata": {},
   "outputs": [],
   "source": [
    "#separating dependent and independent variables\n",
    "feature_columns = ['Age', 'Purchased', 'EstimatedSalary']\n",
    "X = shop_data[feature_columns].values\n",
    "y = shop_data['Gender'].values"
   ]
  },
  {
   "cell_type": "code",
   "execution_count": 13,
   "id": "0632fe01",
   "metadata": {},
   "outputs": [],
   "source": [
    "#Data Splitting\n",
    "Xtrain, Xtest, Ytrain, Ytest = train_test_split(X, y, test_size=0.30, random_state=42)"
   ]
  },
  {
   "cell_type": "code",
   "execution_count": 14,
   "id": "d8731b25",
   "metadata": {},
   "outputs": [],
   "source": [
    "#spliting data into validation train and validation test\n",
    "Xt, Xcv, Yt, Ycv = train_test_split(Xtrain, Ytrain, test_size=0.10, random_state=42)"
   ]
  },
  {
   "cell_type": "code",
   "execution_count": 15,
   "id": "12bf8451",
   "metadata": {},
   "outputs": [
    {
     "data": {
      "text/plain": [
       "[Text(0.8546594659783344, 0.975, 'X[0] <= 49.5\\ngini = 0.5\\nsamples = 252\\nvalue = [129, 123]'),\n",
       " Text(0.7309844702098849, 0.925, 'X[2] <= 107000.0\\ngini = 0.5\\nsamples = 221\\nvalue = [108, 113]'),\n",
       " Text(0.6190440927555857, 0.875, 'X[2] <= 86500.0\\ngini = 0.498\\nsamples = 189\\nvalue = [88, 101]'),\n",
       " Text(0.47640910629654704, 0.825, 'X[2] <= 81500.0\\ngini = 0.5\\nsamples = 167\\nvalue = [83, 84]'),\n",
       " Text(0.23447020988490183, 0.775, 'X[0] <= 28.5\\ngini = 0.499\\nsamples = 154\\nvalue = [73, 81]'),\n",
       " Text(0.13608666215301288, 0.725, 'X[0] <= 26.5\\ngini = 0.48\\nsamples = 35\\nvalue = [21, 14]'),\n",
       " Text(0.07176709546377792, 0.675, 'X[2] <= 25500.0\\ngini = 0.497\\nsamples = 28\\nvalue = [15, 13]'),\n",
       " Text(0.03249830737982397, 0.625, 'X[2] <= 17000.0\\ngini = 0.32\\nsamples = 5\\nvalue = [1, 4]'),\n",
       " Text(0.021665538253215978, 0.575, 'X[0] <= 23.5\\ngini = 0.5\\nsamples = 2\\nvalue = [1, 1]'),\n",
       " Text(0.010832769126607989, 0.525, 'gini = 0.0\\nsamples = 1\\nvalue = [1, 0]'),\n",
       " Text(0.03249830737982397, 0.525, 'gini = 0.0\\nsamples = 1\\nvalue = [0, 1]'),\n",
       " Text(0.043331076506431955, 0.575, 'gini = 0.0\\nsamples = 3\\nvalue = [0, 3]'),\n",
       " Text(0.11103588354773189, 0.625, 'X[2] <= 53500.0\\ngini = 0.476\\nsamples = 23\\nvalue = [14, 9]'),\n",
       " Text(0.06499661475964794, 0.575, 'X[0] <= 24.5\\ngini = 0.32\\nsamples = 10\\nvalue = [8, 2]'),\n",
       " Text(0.05416384563303995, 0.525, 'gini = 0.0\\nsamples = 6\\nvalue = [6, 0]'),\n",
       " Text(0.07582938388625593, 0.525, 'X[2] <= 34000.0\\ngini = 0.5\\nsamples = 4\\nvalue = [2, 2]'),\n",
       " Text(0.06499661475964794, 0.475, 'gini = 0.0\\nsamples = 2\\nvalue = [0, 2]'),\n",
       " Text(0.08666215301286391, 0.475, 'gini = 0.0\\nsamples = 2\\nvalue = [2, 0]'),\n",
       " Text(0.15707515233581584, 0.575, 'X[2] <= 74000.0\\ngini = 0.497\\nsamples = 13\\nvalue = [6, 7]'),\n",
       " Text(0.12999322951929587, 0.525, 'X[2] <= 64500.0\\ngini = 0.494\\nsamples = 9\\nvalue = [5, 4]'),\n",
       " Text(0.1083276912660799, 0.475, 'X[0] <= 22.5\\ngini = 0.48\\nsamples = 5\\nvalue = [2, 3]'),\n",
       " Text(0.0974949221394719, 0.425, 'gini = 0.0\\nsamples = 2\\nvalue = [2, 0]'),\n",
       " Text(0.11916046039268788, 0.425, 'gini = 0.0\\nsamples = 3\\nvalue = [0, 3]'),\n",
       " Text(0.15165876777251186, 0.475, 'X[0] <= 22.0\\ngini = 0.375\\nsamples = 4\\nvalue = [3, 1]'),\n",
       " Text(0.14082599864590387, 0.425, 'X[2] <= 70000.0\\ngini = 0.5\\nsamples = 2\\nvalue = [1, 1]'),\n",
       " Text(0.12999322951929587, 0.375, 'gini = 0.0\\nsamples = 1\\nvalue = [1, 0]'),\n",
       " Text(0.15165876777251186, 0.375, 'gini = 0.0\\nsamples = 1\\nvalue = [0, 1]'),\n",
       " Text(0.16249153689911983, 0.425, 'gini = 0.0\\nsamples = 2\\nvalue = [2, 0]'),\n",
       " Text(0.18415707515233581, 0.525, 'X[2] <= 78000.0\\ngini = 0.375\\nsamples = 4\\nvalue = [1, 3]'),\n",
       " Text(0.17332430602572782, 0.475, 'gini = 0.0\\nsamples = 1\\nvalue = [0, 1]'),\n",
       " Text(0.1949898442789438, 0.475, 'X[2] <= 80500.0\\ngini = 0.444\\nsamples = 3\\nvalue = [1, 2]'),\n",
       " Text(0.18415707515233581, 0.425, 'gini = 0.5\\nsamples = 2\\nvalue = [1, 1]'),\n",
       " Text(0.2058226134055518, 0.425, 'gini = 0.0\\nsamples = 1\\nvalue = [0, 1]'),\n",
       " Text(0.2004062288422478, 0.675, 'X[2] <= 34500.0\\ngini = 0.245\\nsamples = 7\\nvalue = [6, 1]'),\n",
       " Text(0.1895734597156398, 0.625, 'X[0] <= 27.5\\ngini = 0.5\\nsamples = 2\\nvalue = [1, 1]'),\n",
       " Text(0.17874069058903183, 0.575, 'gini = 0.0\\nsamples = 1\\nvalue = [1, 0]'),\n",
       " Text(0.2004062288422478, 0.575, 'gini = 0.0\\nsamples = 1\\nvalue = [0, 1]'),\n",
       " Text(0.21123899796885579, 0.625, 'gini = 0.0\\nsamples = 5\\nvalue = [5, 0]'),\n",
       " Text(0.3328537576167908, 0.725, 'X[0] <= 32.5\\ngini = 0.492\\nsamples = 119\\nvalue = [52, 67]'),\n",
       " Text(0.24373730534867977, 0.675, 'X[2] <= 16000.0\\ngini = 0.391\\nsamples = 15\\nvalue = [4, 11]'),\n",
       " Text(0.23290453622207177, 0.625, 'gini = 0.0\\nsamples = 1\\nvalue = [1, 0]'),\n",
       " Text(0.25457007447528773, 0.625, 'X[2] <= 45000.0\\ngini = 0.337\\nsamples = 14\\nvalue = [3, 11]'),\n",
       " Text(0.24373730534867977, 0.575, 'gini = 0.0\\nsamples = 6\\nvalue = [0, 6]'),\n",
       " Text(0.26540284360189575, 0.575, 'X[2] <= 48000.0\\ngini = 0.469\\nsamples = 8\\nvalue = [3, 5]'),\n",
       " Text(0.25457007447528773, 0.525, 'gini = 0.0\\nsamples = 1\\nvalue = [1, 0]'),\n",
       " Text(0.2762356127285037, 0.525, 'X[2] <= 67000.0\\ngini = 0.408\\nsamples = 7\\nvalue = [2, 5]'),\n",
       " Text(0.26540284360189575, 0.475, 'gini = 0.0\\nsamples = 3\\nvalue = [0, 3]'),\n",
       " Text(0.2870683818551117, 0.475, 'X[0] <= 29.5\\ngini = 0.5\\nsamples = 4\\nvalue = [2, 2]'),\n",
       " Text(0.2762356127285037, 0.425, 'gini = 0.0\\nsamples = 1\\nvalue = [0, 1]'),\n",
       " Text(0.2979011509817197, 0.425, 'X[2] <= 79500.0\\ngini = 0.444\\nsamples = 3\\nvalue = [2, 1]'),\n",
       " Text(0.2870683818551117, 0.375, 'gini = 0.0\\nsamples = 2\\nvalue = [2, 0]'),\n",
       " Text(0.3087339201083277, 0.375, 'gini = 0.0\\nsamples = 1\\nvalue = [0, 1]'),\n",
       " Text(0.4219702098849018, 0.675, 'X[2] <= 79500.0\\ngini = 0.497\\nsamples = 104\\nvalue = [48, 56]'),\n",
       " Text(0.41113744075829384, 0.625, 'X[0] <= 34.5\\ngini = 0.494\\nsamples = 101\\nvalue = [45, 56]'),\n",
       " Text(0.3087339201083277, 0.575, 'X[2] <= 42000.0\\ngini = 0.375\\nsamples = 8\\nvalue = [6, 2]'),\n",
       " Text(0.2979011509817197, 0.525, 'gini = 0.0\\nsamples = 3\\nvalue = [3, 0]'),\n",
       " Text(0.3195666892349357, 0.525, 'X[2] <= 51500.0\\ngini = 0.48\\nsamples = 5\\nvalue = [3, 2]'),\n",
       " Text(0.3087339201083277, 0.475, 'gini = 0.0\\nsamples = 2\\nvalue = [0, 2]'),\n",
       " Text(0.33039945836154366, 0.475, 'gini = 0.0\\nsamples = 3\\nvalue = [3, 0]'),\n",
       " Text(0.51354096140826, 0.575, 'X[2] <= 50500.0\\ngini = 0.487\\nsamples = 93\\nvalue = [39, 54]'),\n",
       " Text(0.3953960731211916, 0.525, 'X[0] <= 36.5\\ngini = 0.498\\nsamples = 32\\nvalue = [17, 15]'),\n",
       " Text(0.35206499661475965, 0.475, 'X[2] <= 22500.0\\ngini = 0.444\\nsamples = 9\\nvalue = [3, 6]'),\n",
       " Text(0.3412322274881517, 0.425, 'gini = 0.0\\nsamples = 2\\nvalue = [0, 2]'),\n",
       " Text(0.3628977657413676, 0.425, 'X[2] <= 29000.0\\ngini = 0.49\\nsamples = 7\\nvalue = [3, 4]'),\n",
       " Text(0.35206499661475965, 0.375, 'gini = 0.0\\nsamples = 2\\nvalue = [2, 0]'),\n",
       " Text(0.37373053486797564, 0.375, 'X[2] <= 41500.0\\ngini = 0.32\\nsamples = 5\\nvalue = [1, 4]'),\n",
       " Text(0.3628977657413676, 0.325, 'gini = 0.0\\nsamples = 3\\nvalue = [0, 3]'),\n",
       " Text(0.3845633039945836, 0.325, 'X[2] <= 47000.0\\ngini = 0.5\\nsamples = 2\\nvalue = [1, 1]'),\n",
       " Text(0.37373053486797564, 0.275, 'gini = 0.0\\nsamples = 1\\nvalue = [1, 0]'),\n",
       " Text(0.3953960731211916, 0.275, 'gini = 0.0\\nsamples = 1\\nvalue = [0, 1]'),\n",
       " Text(0.43872714962762355, 0.475, 'X[2] <= 29000.0\\ngini = 0.476\\nsamples = 23\\nvalue = [14, 9]'),\n",
       " Text(0.4062288422477996, 0.425, 'X[2] <= 22500.0\\ngini = 0.32\\nsamples = 5\\nvalue = [1, 4]'),\n",
       " Text(0.3953960731211916, 0.375, 'gini = 0.5\\nsamples = 2\\nvalue = [1, 1]'),\n",
       " Text(0.41706161137440756, 0.375, 'gini = 0.0\\nsamples = 3\\nvalue = [0, 3]'),\n",
       " Text(0.4712254570074475, 0.425, 'X[1] <= 0.5\\ngini = 0.401\\nsamples = 18\\nvalue = [13, 5]'),\n",
       " Text(0.43872714962762355, 0.375, 'X[0] <= 38.5\\ngini = 0.494\\nsamples = 9\\nvalue = [5, 4]'),\n",
       " Text(0.4278943805010156, 0.325, 'gini = 0.0\\nsamples = 3\\nvalue = [3, 0]'),\n",
       " Text(0.44955991875423157, 0.325, 'X[2] <= 36000.0\\ngini = 0.444\\nsamples = 6\\nvalue = [2, 4]'),\n",
       " Text(0.43872714962762355, 0.275, 'gini = 0.0\\nsamples = 1\\nvalue = [1, 0]'),\n",
       " Text(0.46039268788083954, 0.275, 'X[0] <= 44.0\\ngini = 0.32\\nsamples = 5\\nvalue = [1, 4]'),\n",
       " Text(0.44955991875423157, 0.225, 'gini = 0.0\\nsamples = 3\\nvalue = [0, 3]'),\n",
       " Text(0.4712254570074475, 0.225, 'X[2] <= 45000.0\\ngini = 0.5\\nsamples = 2\\nvalue = [1, 1]'),\n",
       " Text(0.46039268788083954, 0.175, 'gini = 0.0\\nsamples = 1\\nvalue = [0, 1]'),\n",
       " Text(0.4820582261340555, 0.175, 'gini = 0.0\\nsamples = 1\\nvalue = [1, 0]'),\n",
       " Text(0.5037237643872715, 0.375, 'X[2] <= 34000.0\\ngini = 0.198\\nsamples = 9\\nvalue = [8, 1]'),\n",
       " Text(0.4928909952606635, 0.325, 'X[2] <= 32500.0\\ngini = 0.375\\nsamples = 4\\nvalue = [3, 1]'),\n",
       " Text(0.4820582261340555, 0.275, 'gini = 0.0\\nsamples = 3\\nvalue = [3, 0]'),\n",
       " Text(0.5037237643872715, 0.275, 'gini = 0.0\\nsamples = 1\\nvalue = [0, 1]'),\n",
       " Text(0.5145565335138795, 0.325, 'gini = 0.0\\nsamples = 5\\nvalue = [5, 0]'),\n",
       " Text(0.6316858496953284, 0.525, 'X[2] <= 59500.0\\ngini = 0.461\\nsamples = 61\\nvalue = [22, 39]'),\n",
       " Text(0.5795531482735274, 0.475, 'X[0] <= 37.5\\ngini = 0.133\\nsamples = 14\\nvalue = [1, 13]'),\n",
       " Text(0.5687203791469194, 0.425, 'X[0] <= 36.5\\ngini = 0.32\\nsamples = 5\\nvalue = [1, 4]'),\n",
       " Text(0.5578876100203114, 0.375, 'gini = 0.0\\nsamples = 4\\nvalue = [0, 4]'),\n",
       " Text(0.5795531482735274, 0.375, 'gini = 0.0\\nsamples = 1\\nvalue = [1, 0]'),\n",
       " Text(0.5903859174001355, 0.425, 'gini = 0.0\\nsamples = 9\\nvalue = [0, 9]'),\n",
       " Text(0.6838185511171293, 0.475, 'X[0] <= 43.5\\ngini = 0.494\\nsamples = 47\\nvalue = [21, 26]'),\n",
       " Text(0.6729857819905213, 0.425, 'X[0] <= 38.5\\ngini = 0.5\\nsamples = 43\\nvalue = [21, 22]'),\n",
       " Text(0.6012186865267434, 0.375, 'X[0] <= 36.5\\ngini = 0.432\\nsamples = 19\\nvalue = [6, 13]'),\n",
       " Text(0.5578876100203114, 0.325, 'X[2] <= 71500.0\\ngini = 0.5\\nsamples = 10\\nvalue = [5, 5]'),\n",
       " Text(0.5253893026404874, 0.275, 'X[0] <= 35.5\\ngini = 0.375\\nsamples = 4\\nvalue = [3, 1]'),\n",
       " Text(0.5145565335138795, 0.225, 'gini = 0.0\\nsamples = 2\\nvalue = [2, 0]'),\n",
       " Text(0.5362220717670955, 0.225, 'X[2] <= 61500.0\\ngini = 0.5\\nsamples = 2\\nvalue = [1, 1]'),\n",
       " Text(0.5253893026404874, 0.175, 'gini = 0.0\\nsamples = 1\\nvalue = [0, 1]'),\n",
       " Text(0.5470548408937035, 0.175, 'gini = 0.0\\nsamples = 1\\nvalue = [1, 0]'),\n",
       " Text(0.5903859174001355, 0.275, 'X[0] <= 35.5\\ngini = 0.444\\nsamples = 6\\nvalue = [2, 4]'),\n",
       " Text(0.5795531482735274, 0.225, 'X[2] <= 76000.0\\ngini = 0.32\\nsamples = 5\\nvalue = [1, 4]'),\n",
       " Text(0.5687203791469194, 0.175, 'gini = 0.0\\nsamples = 3\\nvalue = [0, 3]'),\n",
       " Text(0.5903859174001355, 0.175, 'X[2] <= 78000.0\\ngini = 0.5\\nsamples = 2\\nvalue = [1, 1]'),\n",
       " Text(0.5795531482735274, 0.125, 'gini = 0.0\\nsamples = 1\\nvalue = [1, 0]'),\n",
       " Text(0.6012186865267434, 0.125, 'gini = 0.0\\nsamples = 1\\nvalue = [0, 1]'),\n",
       " Text(0.6012186865267434, 0.225, 'gini = 0.0\\nsamples = 1\\nvalue = [1, 0]'),\n",
       " Text(0.6445497630331753, 0.325, 'X[2] <= 71500.0\\ngini = 0.198\\nsamples = 9\\nvalue = [1, 8]'),\n",
       " Text(0.6337169939065673, 0.275, 'X[0] <= 37.5\\ngini = 0.32\\nsamples = 5\\nvalue = [1, 4]'),\n",
       " Text(0.6228842247799594, 0.225, 'X[2] <= 70500.0\\ngini = 0.5\\nsamples = 2\\nvalue = [1, 1]'),\n",
       " Text(0.6120514556533514, 0.175, 'gini = 0.0\\nsamples = 1\\nvalue = [0, 1]'),\n",
       " Text(0.6337169939065673, 0.175, 'gini = 0.0\\nsamples = 1\\nvalue = [1, 0]'),\n",
       " Text(0.6445497630331753, 0.225, 'gini = 0.0\\nsamples = 3\\nvalue = [0, 3]'),\n",
       " Text(0.6553825321597834, 0.275, 'gini = 0.0\\nsamples = 4\\nvalue = [0, 4]'),\n",
       " Text(0.7447528774542993, 0.375, 'X[2] <= 76000.0\\ngini = 0.469\\nsamples = 24\\nvalue = [15, 9]'),\n",
       " Text(0.7149627623561273, 0.325, 'X[1] <= 0.5\\ngini = 0.42\\nsamples = 20\\nvalue = [14, 6]'),\n",
       " Text(0.6878808395396073, 0.275, 'X[2] <= 67500.0\\ngini = 0.36\\nsamples = 17\\nvalue = [13, 4]'),\n",
       " Text(0.6662153012863913, 0.225, 'X[2] <= 64000.0\\ngini = 0.49\\nsamples = 7\\nvalue = [4, 3]'),\n",
       " Text(0.6553825321597834, 0.175, 'X[0] <= 40.5\\ngini = 0.32\\nsamples = 5\\nvalue = [4, 1]'),\n",
       " Text(0.6445497630331753, 0.125, 'X[0] <= 39.5\\ngini = 0.444\\nsamples = 3\\nvalue = [2, 1]'),\n",
       " Text(0.6337169939065673, 0.075, 'gini = 0.0\\nsamples = 1\\nvalue = [1, 0]'),\n",
       " Text(0.6553825321597834, 0.075, 'X[2] <= 60500.0\\ngini = 0.5\\nsamples = 2\\nvalue = [1, 1]'),\n",
       " Text(0.6445497630331753, 0.025, 'gini = 0.0\\nsamples = 1\\nvalue = [1, 0]'),\n",
       " Text(0.6662153012863913, 0.025, 'gini = 0.0\\nsamples = 1\\nvalue = [0, 1]'),\n",
       " Text(0.6662153012863913, 0.125, 'gini = 0.0\\nsamples = 2\\nvalue = [2, 0]'),\n",
       " Text(0.6770480704129993, 0.175, 'gini = 0.0\\nsamples = 2\\nvalue = [0, 2]'),\n",
       " Text(0.7095463777928233, 0.225, 'X[2] <= 72500.0\\ngini = 0.18\\nsamples = 10\\nvalue = [9, 1]'),\n",
       " Text(0.6987136086662153, 0.175, 'X[2] <= 71500.0\\ngini = 0.245\\nsamples = 7\\nvalue = [6, 1]'),\n",
       " Text(0.6878808395396073, 0.125, 'gini = 0.0\\nsamples = 2\\nvalue = [2, 0]'),\n",
       " Text(0.7095463777928233, 0.125, 'X[0] <= 40.5\\ngini = 0.32\\nsamples = 5\\nvalue = [4, 1]'),\n",
       " Text(0.6987136086662153, 0.075, 'gini = 0.0\\nsamples = 1\\nvalue = [1, 0]'),\n",
       " Text(0.7203791469194313, 0.075, 'gini = 0.375\\nsamples = 4\\nvalue = [3, 1]'),\n",
       " Text(0.7203791469194313, 0.175, 'gini = 0.0\\nsamples = 3\\nvalue = [3, 0]'),\n",
       " Text(0.7420446851726472, 0.275, 'X[2] <= 74000.0\\ngini = 0.444\\nsamples = 3\\nvalue = [1, 2]'),\n",
       " Text(0.7312119160460393, 0.225, 'gini = 0.0\\nsamples = 2\\nvalue = [0, 2]'),\n",
       " Text(0.7528774542992552, 0.225, 'gini = 0.0\\nsamples = 1\\nvalue = [1, 0]'),\n",
       " Text(0.7745429925524713, 0.325, 'X[0] <= 41.5\\ngini = 0.375\\nsamples = 4\\nvalue = [1, 3]'),\n",
       " Text(0.7637102234258633, 0.275, 'gini = 0.0\\nsamples = 3\\nvalue = [0, 3]'),\n",
       " Text(0.7853757616790792, 0.275, 'gini = 0.0\\nsamples = 1\\nvalue = [1, 0]'),\n",
       " Text(0.6946513202437373, 0.425, 'gini = 0.0\\nsamples = 4\\nvalue = [0, 4]'),\n",
       " Text(0.4328029790115098, 0.625, 'gini = 0.0\\nsamples = 3\\nvalue = [3, 0]'),\n",
       " Text(0.7183480027081923, 0.775, 'X[0] <= 25.0\\ngini = 0.355\\nsamples = 13\\nvalue = [10, 3]'),\n",
       " Text(0.7075152335815843, 0.725, 'X[0] <= 23.5\\ngini = 0.49\\nsamples = 7\\nvalue = [4, 3]'),\n",
       " Text(0.6966824644549763, 0.675, 'X[0] <= 21.5\\ngini = 0.444\\nsamples = 6\\nvalue = [4, 2]'),\n",
       " Text(0.6858496953283684, 0.625, 'X[0] <= 19.0\\ngini = 0.48\\nsamples = 5\\nvalue = [3, 2]'),\n",
       " Text(0.6641841570751523, 0.575, 'X[2] <= 84000.0\\ngini = 0.5\\nsamples = 2\\nvalue = [1, 1]'),\n",
       " Text(0.6533513879485443, 0.525, 'gini = 0.0\\nsamples = 1\\nvalue = [0, 1]'),\n",
       " Text(0.6750169262017603, 0.525, 'gini = 0.0\\nsamples = 1\\nvalue = [1, 0]'),\n",
       " Text(0.7075152335815843, 0.575, 'X[2] <= 84000.0\\ngini = 0.444\\nsamples = 3\\nvalue = [2, 1]'),\n",
       " Text(0.6966824644549763, 0.525, 'gini = 0.0\\nsamples = 2\\nvalue = [2, 0]'),\n",
       " Text(0.7183480027081923, 0.525, 'gini = 0.0\\nsamples = 1\\nvalue = [0, 1]'),\n",
       " Text(0.7075152335815843, 0.625, 'gini = 0.0\\nsamples = 1\\nvalue = [1, 0]'),\n",
       " Text(0.7183480027081923, 0.675, 'gini = 0.0\\nsamples = 1\\nvalue = [0, 1]'),\n",
       " Text(0.7291807718348002, 0.725, 'gini = 0.0\\nsamples = 6\\nvalue = [6, 0]'),\n",
       " Text(0.7616790792146242, 0.825, 'X[0] <= 24.5\\ngini = 0.351\\nsamples = 22\\nvalue = [5, 17]'),\n",
       " Text(0.7508463100880163, 0.775, 'gini = 0.0\\nsamples = 1\\nvalue = [1, 0]'),\n",
       " Text(0.7725118483412322, 0.775, 'X[2] <= 93500.0\\ngini = 0.308\\nsamples = 21\\nvalue = [4, 17]'),\n",
       " Text(0.7508463100880163, 0.725, 'X[0] <= 33.0\\ngini = 0.142\\nsamples = 13\\nvalue = [1, 12]'),\n",
       " Text(0.7400135409614083, 0.675, 'X[0] <= 30.5\\ngini = 0.278\\nsamples = 6\\nvalue = [1, 5]'),\n",
       " Text(0.7291807718348002, 0.625, 'gini = 0.0\\nsamples = 5\\nvalue = [0, 5]'),\n",
       " Text(0.7508463100880163, 0.625, 'gini = 0.0\\nsamples = 1\\nvalue = [1, 0]'),\n",
       " Text(0.7616790792146242, 0.675, 'gini = 0.0\\nsamples = 7\\nvalue = [0, 7]'),\n",
       " Text(0.7941773865944483, 0.725, 'X[2] <= 98500.0\\ngini = 0.469\\nsamples = 8\\nvalue = [3, 5]'),\n",
       " Text(0.7833446174678402, 0.675, 'X[0] <= 37.0\\ngini = 0.375\\nsamples = 4\\nvalue = [3, 1]'),\n",
       " Text(0.7725118483412322, 0.625, 'gini = 0.0\\nsamples = 2\\nvalue = [2, 0]'),\n",
       " Text(0.7941773865944483, 0.625, 'X[0] <= 42.5\\ngini = 0.5\\nsamples = 2\\nvalue = [1, 1]'),\n",
       " Text(0.7833446174678402, 0.575, 'gini = 0.0\\nsamples = 1\\nvalue = [0, 1]'),\n",
       " Text(0.8050101557210562, 0.575, 'gini = 0.0\\nsamples = 1\\nvalue = [1, 0]'),\n",
       " Text(0.8050101557210562, 0.675, 'gini = 0.0\\nsamples = 4\\nvalue = [0, 4]'),\n",
       " Text(0.8429248476641842, 0.875, 'X[0] <= 29.5\\ngini = 0.469\\nsamples = 32\\nvalue = [20, 12]'),\n",
       " Text(0.8320920785375762, 0.825, 'gini = 0.0\\nsamples = 2\\nvalue = [0, 2]'),\n",
       " Text(0.8537576167907921, 0.825, 'X[2] <= 114000.0\\ngini = 0.444\\nsamples = 30\\nvalue = [20, 10]'),\n",
       " Text(0.8429248476641842, 0.775, 'gini = 0.0\\nsamples = 3\\nvalue = [3, 0]'),\n",
       " Text(0.8645903859174001, 0.775, 'X[0] <= 33.5\\ngini = 0.466\\nsamples = 27\\nvalue = [17, 10]'),\n",
       " Text(0.8375084631008801, 0.725, 'X[0] <= 30.5\\ngini = 0.245\\nsamples = 7\\nvalue = [6, 1]'),\n",
       " Text(0.8266756939742722, 0.675, 'X[2] <= 125500.0\\ngini = 0.5\\nsamples = 2\\nvalue = [1, 1]'),\n",
       " Text(0.8158429248476642, 0.625, 'gini = 0.0\\nsamples = 1\\nvalue = [1, 0]'),\n",
       " Text(0.8375084631008801, 0.625, 'gini = 0.0\\nsamples = 1\\nvalue = [0, 1]'),\n",
       " Text(0.8483412322274881, 0.675, 'gini = 0.0\\nsamples = 5\\nvalue = [5, 0]'),\n",
       " Text(0.8916723087339201, 0.725, 'X[2] <= 125500.0\\ngini = 0.495\\nsamples = 20\\nvalue = [11, 9]'),\n",
       " Text(0.8700067704807042, 0.675, 'X[0] <= 47.0\\ngini = 0.278\\nsamples = 6\\nvalue = [1, 5]'),\n",
       " Text(0.8591740013540962, 0.625, 'gini = 0.0\\nsamples = 5\\nvalue = [0, 5]'),\n",
       " Text(0.8808395396073121, 0.625, 'gini = 0.0\\nsamples = 1\\nvalue = [1, 0]'),\n",
       " Text(0.913337846987136, 0.675, 'X[2] <= 148000.0\\ngini = 0.408\\nsamples = 14\\nvalue = [10, 4]'),\n",
       " Text(0.9025050778605281, 0.625, 'X[0] <= 38.0\\ngini = 0.355\\nsamples = 13\\nvalue = [10, 3]'),\n",
       " Text(0.8916723087339201, 0.575, 'gini = 0.0\\nsamples = 4\\nvalue = [4, 0]'),\n",
       " Text(0.913337846987136, 0.575, 'X[2] <= 130000.0\\ngini = 0.444\\nsamples = 9\\nvalue = [6, 3]'),\n",
       " Text(0.9025050778605281, 0.525, 'gini = 0.0\\nsamples = 1\\nvalue = [0, 1]'),\n",
       " Text(0.9241706161137441, 0.525, 'X[0] <= 39.5\\ngini = 0.375\\nsamples = 8\\nvalue = [6, 2]'),\n",
       " Text(0.913337846987136, 0.475, 'gini = 0.0\\nsamples = 1\\nvalue = [0, 1]'),\n",
       " Text(0.9350033852403521, 0.475, 'X[1] <= 0.5\\ngini = 0.245\\nsamples = 7\\nvalue = [6, 1]'),\n",
       " Text(0.9241706161137441, 0.425, 'X[2] <= 137000.0\\ngini = 0.5\\nsamples = 2\\nvalue = [1, 1]'),\n",
       " Text(0.913337846987136, 0.375, 'gini = 0.0\\nsamples = 1\\nvalue = [1, 0]'),\n",
       " Text(0.9350033852403521, 0.375, 'gini = 0.0\\nsamples = 1\\nvalue = [0, 1]'),\n",
       " Text(0.94583615436696, 0.425, 'gini = 0.0\\nsamples = 5\\nvalue = [5, 0]'),\n",
       " Text(0.9241706161137441, 0.625, 'gini = 0.0\\nsamples = 1\\nvalue = [0, 1]'),\n",
       " Text(0.9783344617467841, 0.925, 'X[2] <= 138500.0\\ngini = 0.437\\nsamples = 31\\nvalue = [21, 10]'),\n",
       " Text(0.967501692620176, 0.875, 'X[2] <= 85500.0\\ngini = 0.375\\nsamples = 28\\nvalue = [21, 7]'),\n",
       " Text(0.956668923493568, 0.825, 'X[2] <= 53500.0\\ngini = 0.465\\nsamples = 19\\nvalue = [12, 7]'),\n",
       " Text(0.9350033852403521, 0.775, 'X[0] <= 59.5\\ngini = 0.26\\nsamples = 13\\nvalue = [11, 2]'),\n",
       " Text(0.9241706161137441, 0.725, 'gini = 0.0\\nsamples = 10\\nvalue = [10, 0]'),\n",
       " Text(0.94583615436696, 0.725, 'X[2] <= 44000.0\\ngini = 0.444\\nsamples = 3\\nvalue = [1, 2]'),\n",
       " Text(0.9350033852403521, 0.675, 'gini = 0.0\\nsamples = 2\\nvalue = [0, 2]'),\n",
       " Text(0.956668923493568, 0.675, 'gini = 0.0\\nsamples = 1\\nvalue = [1, 0]'),\n",
       " Text(0.9783344617467841, 0.775, 'X[1] <= 0.5\\ngini = 0.278\\nsamples = 6\\nvalue = [1, 5]'),\n",
       " Text(0.967501692620176, 0.725, 'gini = 0.0\\nsamples = 1\\nvalue = [1, 0]'),\n",
       " Text(0.989167230873392, 0.725, 'gini = 0.0\\nsamples = 5\\nvalue = [0, 5]'),\n",
       " Text(0.9783344617467841, 0.825, 'gini = 0.0\\nsamples = 9\\nvalue = [9, 0]'),\n",
       " Text(0.989167230873392, 0.875, 'gini = 0.0\\nsamples = 3\\nvalue = [0, 3]')]"
      ]
     },
     "execution_count": 15,
     "metadata": {},
     "output_type": "execute_result"
    },
    {
     "data": {
      "image/png": "[encoded data removed]",
      "text/plain": [
       "<Figure size 640x480 with 1 Axes>"
      ]
     },
     "metadata": {},
     "output_type": "display_data"
    }
   ],
   "source": [
    "#Creating the decsion tree\n",
    "Iris_clf = DecisionTreeClassifier(criterion='gini',min_samples_split=2)\n",
    "Iris_clf.fit(Xt, Yt)\n",
    "#Visualized the Tree which is formed on train dataset\n",
    "tree.plot_tree(Iris_clf)"
   ]
  },
  {
   "cell_type": "code",
   "execution_count": 16,
   "id": "586525b3",
   "metadata": {},
   "outputs": [
    {
     "name": "stdout",
     "output_type": "stream",
     "text": [
      "Accuracy score is: 0.507936507936508\n"
     ]
    }
   ],
   "source": [
    "#Accuracy\n",
    "print('Accuracy score is:',cross_val_score(Iris_clf, Xt, Yt, cv=3, scoring='accuracy').mean())"
   ]
  },
  {
   "cell_type": "code",
   "execution_count": 17,
   "id": "a6e84391",
   "metadata": {},
   "outputs": [],
   "source": [
    "#Checking validation test data on our trained model and getting performance metrices\n",
    "from sklearn.metrics import multilabel_confusion_matrix, accuracy_score\n",
    "Y_hat = Iris_clf.predict(Xcv)"
   ]
  },
  {
   "cell_type": "code",
   "execution_count": 18,
   "id": "f6d06b9f",
   "metadata": {},
   "outputs": [
    {
     "name": "stdout",
     "output_type": "stream",
     "text": [
      "Accuracy score for validation test data is: 0.5\n"
     ]
    },
    {
     "data": {
      "text/plain": [
       "array([[[8, 6],\n",
       "        [8, 6]],\n",
       "\n",
       "       [[6, 8],\n",
       "        [6, 8]]])"
      ]
     },
     "execution_count": 18,
     "metadata": {},
     "output_type": "execute_result"
    }
   ],
   "source": [
    "print('Accuracy score for validation test data is:',accuracy_score(Ycv, Y_hat))\n",
    "multilabel_confusion_matrix(Ycv , Y_hat)"
   ]
  },
  {
   "cell_type": "code",
   "execution_count": 19,
   "id": "b3402d51",
   "metadata": {},
   "outputs": [
    {
     "data": {
      "text/plain": [
       "array(['Female', 'Female', 'Female', 'Female', 'Male', 'Male', 'Male',\n",
       "       'Female', 'Female', 'Male', 'Female', 'Female', 'Female', 'Male',\n",
       "       'Male', 'Female', 'Female', 'Male', 'Male', 'Male', 'Female',\n",
       "       'Male', 'Male', 'Male', 'Male', 'Female', 'Female', 'Female',\n",
       "       'Female', 'Male', 'Female', 'Female', 'Female', 'Female', 'Male',\n",
       "       'Male', 'Female', 'Male', 'Male', 'Female', 'Male', 'Male',\n",
       "       'Female', 'Female', 'Female', 'Female', 'Male', 'Female', 'Female',\n",
       "       'Male', 'Female', 'Male', 'Male', 'Female', 'Female', 'Female',\n",
       "       'Female', 'Male', 'Female', 'Female', 'Male', 'Male', 'Female',\n",
       "       'Male', 'Female', 'Male', 'Male', 'Female', 'Male', 'Female',\n",
       "       'Female', 'Female', 'Female', 'Male', 'Male', 'Male', 'Female',\n",
       "       'Female', 'Female', 'Male', 'Female', 'Male', 'Male', 'Male',\n",
       "       'Female', 'Female', 'Male', 'Male', 'Female', 'Male', 'Female',\n",
       "       'Male', 'Male', 'Female', 'Male', 'Male', 'Female', 'Female',\n",
       "       'Male', 'Female', 'Female', 'Female', 'Male', 'Male', 'Male',\n",
       "       'Female', 'Male', 'Male', 'Male', 'Male', 'Female', 'Female',\n",
       "       'Female', 'Female', 'Female', 'Female', 'Male', 'Male', 'Male',\n",
       "       'Female'], dtype=object)"
      ]
     },
     "execution_count": 19,
     "metadata": {},
     "output_type": "execute_result"
    }
   ],
   "source": [
    "YT_hat = Iris_clf.predict(Xtest)\n",
    "YT_hat"
   ]
  },
  {
   "cell_type": "code",
   "execution_count": 20,
   "id": "2eb1db3b",
   "metadata": {},
   "outputs": [
    {
     "name": "stdout",
     "output_type": "stream",
     "text": [
      "Model Accuracy Score on totally unseen data(Xtest) is: 47.5 %\n"
     ]
    },
    {
     "data": {
      "text/plain": [
       "array([[[26, 33],\n",
       "        [30, 31]],\n",
       "\n",
       "       [[31, 30],\n",
       "        [33, 26]]])"
      ]
     },
     "execution_count": 20,
     "metadata": {},
     "output_type": "execute_result"
    }
   ],
   "source": [
    "print('Model Accuracy Score on totally unseen data(Xtest) is:',accuracy_score(Ytest, YT_hat)*100,'%')\n",
    "multilabel_confusion_matrix(Ytest , YT_hat)"
   ]
  },
  {
   "cell_type": "code",
   "execution_count": null,
   "id": "8b5fcfbf",
   "metadata": {},
   "outputs": [],
   "source": [
    "# not test actual data of 400 cause its too large"
   ]
  }
 ],
 "metadata": {
  "kernelspec": {
   "display_name": "Python 3 (ipykernel)",
   "language": "python",
   "name": "python3"
  },
  "language_info": {
   "codemirror_mode": {
    "name": "ipython",
    "version": 3
   },
   "file_extension": ".py",
   "mimetype": "text/x-python",
   "name": "python",
   "nbconvert_exporter": "python",
   "pygments_lexer": "ipython3",
   "version": "3.8.10"
  }
 },
 "nbformat": 4,
 "nbformat_minor": 5
}
