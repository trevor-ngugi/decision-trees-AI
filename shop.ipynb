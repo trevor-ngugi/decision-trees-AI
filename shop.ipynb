{
 "cells": [
  {
   "cell_type": "code",
   "execution_count": 1,
   "id": "83af39a8",
   "metadata": {},
   "outputs": [],
   "source": [
    "import pandas as pd\n",
    "import numpy as np\n",
    "import matplotlib.pyplot as plt\n",
    "import seaborn as sbn"
   ]
  },
  {
   "cell_type": "code",
   "execution_count": 2,
   "id": "e9e17421",
   "metadata": {},
   "outputs": [],
   "source": [
    "#Loading the dataset\n",
    "shop_data = pd.read_csv(\"/home/oem/Documents/BBIT/3.2/AI/KNN/pay.csv\")"
   ]
  },
  {
   "cell_type": "code",
   "execution_count": 3,
   "id": "78f1f65a",
   "metadata": {},
   "outputs": [
    {
     "data": {
      "text/html": [
       "<div>\n",
       "<style scoped>\n",
       "    .dataframe tbody tr th:only-of-type {\n",
       "        vertical-align: middle;\n",
       "    }\n",
       "\n",
       "    .dataframe tbody tr th {\n",
       "        vertical-align: top;\n",
       "    }\n",
       "\n",
       "    .dataframe thead th {\n",
       "        text-align: right;\n",
       "    }\n",
       "</style>\n",
       "<table border=\"1\" class=\"dataframe\">\n",
       "  <thead>\n",
       "    <tr style=\"text-align: right;\">\n",
       "      <th></th>\n",
       "      <th>User ID</th>\n",
       "      <th>Gender</th>\n",
       "      <th>Age</th>\n",
       "      <th>EstimatedSalary</th>\n",
       "      <th>Purchased</th>\n",
       "    </tr>\n",
       "  </thead>\n",
       "  <tbody>\n",
       "    <tr>\n",
       "      <th>0</th>\n",
       "      <td>15624510</td>\n",
       "      <td>Male</td>\n",
       "      <td>19</td>\n",
       "      <td>19000</td>\n",
       "      <td>0</td>\n",
       "    </tr>\n",
       "    <tr>\n",
       "      <th>1</th>\n",
       "      <td>15810944</td>\n",
       "      <td>Male</td>\n",
       "      <td>35</td>\n",
       "      <td>20000</td>\n",
       "      <td>0</td>\n",
       "    </tr>\n",
       "    <tr>\n",
       "      <th>2</th>\n",
       "      <td>15668575</td>\n",
       "      <td>Female</td>\n",
       "      <td>26</td>\n",
       "      <td>43000</td>\n",
       "      <td>0</td>\n",
       "    </tr>\n",
       "    <tr>\n",
       "      <th>3</th>\n",
       "      <td>15603246</td>\n",
       "      <td>Female</td>\n",
       "      <td>27</td>\n",
       "      <td>57000</td>\n",
       "      <td>0</td>\n",
       "    </tr>\n",
       "    <tr>\n",
       "      <th>4</th>\n",
       "      <td>15804002</td>\n",
       "      <td>Male</td>\n",
       "      <td>19</td>\n",
       "      <td>76000</td>\n",
       "      <td>0</td>\n",
       "    </tr>\n",
       "    <tr>\n",
       "      <th>5</th>\n",
       "      <td>15728773</td>\n",
       "      <td>Male</td>\n",
       "      <td>27</td>\n",
       "      <td>58000</td>\n",
       "      <td>0</td>\n",
       "    </tr>\n",
       "    <tr>\n",
       "      <th>6</th>\n",
       "      <td>15598044</td>\n",
       "      <td>Female</td>\n",
       "      <td>27</td>\n",
       "      <td>84000</td>\n",
       "      <td>0</td>\n",
       "    </tr>\n",
       "    <tr>\n",
       "      <th>7</th>\n",
       "      <td>15694829</td>\n",
       "      <td>Female</td>\n",
       "      <td>32</td>\n",
       "      <td>150000</td>\n",
       "      <td>1</td>\n",
       "    </tr>\n",
       "    <tr>\n",
       "      <th>8</th>\n",
       "      <td>15600575</td>\n",
       "      <td>Male</td>\n",
       "      <td>25</td>\n",
       "      <td>33000</td>\n",
       "      <td>0</td>\n",
       "    </tr>\n",
       "    <tr>\n",
       "      <th>9</th>\n",
       "      <td>15727311</td>\n",
       "      <td>Female</td>\n",
       "      <td>35</td>\n",
       "      <td>65000</td>\n",
       "      <td>0</td>\n",
       "    </tr>\n",
       "  </tbody>\n",
       "</table>\n",
       "</div>"
      ],
      "text/plain": [
       "    User ID  Gender  Age  EstimatedSalary  Purchased\n",
       "0  15624510    Male   19            19000          0\n",
       "1  15810944    Male   35            20000          0\n",
       "2  15668575  Female   26            43000          0\n",
       "3  15603246  Female   27            57000          0\n",
       "4  15804002    Male   19            76000          0\n",
       "5  15728773    Male   27            58000          0\n",
       "6  15598044  Female   27            84000          0\n",
       "7  15694829  Female   32           150000          1\n",
       "8  15600575    Male   25            33000          0\n",
       "9  15727311  Female   35            65000          0"
      ]
     },
     "execution_count": 3,
     "metadata": {},
     "output_type": "execute_result"
    }
   ],
   "source": [
    "#Checking top 10 records of Dataset..\n",
    "shop_data.head(10)"
   ]
  },
  {
   "cell_type": "code",
   "execution_count": 4,
   "id": "7ac433af",
   "metadata": {},
   "outputs": [
    {
     "name": "stdout",
     "output_type": "stream",
     "text": [
      "<class 'pandas.core.frame.DataFrame'>\n",
      "RangeIndex: 400 entries, 0 to 399\n",
      "Data columns (total 5 columns):\n",
      " #   Column           Non-Null Count  Dtype \n",
      "---  ------           --------------  ----- \n",
      " 0   User ID          400 non-null    int64 \n",
      " 1   Gender           400 non-null    object\n",
      " 2   Age              400 non-null    int64 \n",
      " 3   EstimatedSalary  400 non-null    int64 \n",
      " 4   Purchased        400 non-null    int64 \n",
      "dtypes: int64(4), object(1)\n",
      "memory usage: 15.8+ KB\n"
     ]
    }
   ],
   "source": [
    "shop_data.info()"
   ]
  },
  {
   "cell_type": "code",
   "execution_count": 5,
   "id": "3b449c92",
   "metadata": {},
   "outputs": [
    {
     "data": {
      "text/plain": [
       "35    32\n",
       "37    20\n",
       "26    16\n",
       "41    16\n",
       "42    16\n",
       "39    15\n",
       "40    15\n",
       "48    14\n",
       "47    14\n",
       "27    13\n",
       "38    13\n",
       "28    12\n",
       "36    12\n",
       "46    12\n",
       "31    11\n",
       "30    11\n",
       "49    10\n",
       "29    10\n",
       "33     9\n",
       "32     9\n",
       "24     9\n",
       "59     7\n",
       "19     7\n",
       "45     7\n",
       "20     7\n",
       "60     7\n",
       "34     6\n",
       "23     6\n",
       "52     6\n",
       "25     6\n",
       "58     6\n",
       "53     5\n",
       "57     5\n",
       "22     5\n",
       "18     5\n",
       "21     4\n",
       "50     4\n",
       "54     4\n",
       "55     3\n",
       "56     3\n",
       "51     3\n",
       "43     3\n",
       "44     2\n",
       "Name: Age, dtype: int64"
      ]
     },
     "execution_count": 5,
     "metadata": {},
     "output_type": "execute_result"
    }
   ],
   "source": [
    "#Data points count value for each class labels..\n",
    "shop_data.Age.value_counts()"
   ]
  },
  {
   "cell_type": "code",
   "execution_count": 6,
   "id": "7efe9af5",
   "metadata": {},
   "outputs": [
    {
     "data": {
      "image/png": "[encoded data removed]",
      "text/plain": [
       "<Figure size 640x480 with 1 Axes>"
      ]
     },
     "metadata": {},
     "output_type": "display_data"
    }
   ],
   "source": [
    "#Visualizing the dataset features to find pattern to solve our task\n",
    "plt.scatter(shop_data['Age'],shop_data['EstimatedSalary'])\n",
    "plt.show()"
   ]
  },
  {
   "cell_type": "code",
   "execution_count": 7,
   "id": "99367538",
   "metadata": {},
   "outputs": [
    {
     "data": {
      "image/png": "[encoded data removed]",
      "text/plain": [
       "<Figure size 640x480 with 1 Axes>"
      ]
     },
     "metadata": {},
     "output_type": "display_data"
    }
   ],
   "source": [
    "plt.scatter(shop_data['Age'],shop_data['Purchased'])\n",
    "plt.show()"
   ]
  },
  {
   "cell_type": "code",
   "execution_count": 8,
   "id": "2cadd2df",
   "metadata": {},
   "outputs": [],
   "source": [
    "# Building Classification Model\n",
    "#Imporing few library for create Decision tree classifier and visualizing the tree structure'''\n",
    "from sklearn import tree\n",
    "import graphviz\n",
    "from sklearn.tree import DecisionTreeClassifier\n",
    "from sklearn.model_selection import train_test_split, cross_val_score"
   ]
  },
  {
   "cell_type": "code",
   "execution_count": 9,
   "id": "7b650b54",
   "metadata": {},
   "outputs": [],
   "source": [
    "#separating dependent and independent variables\n",
    "feature_columns = ['Age', 'Purchased', 'EstimatedSalary']\n",
    "X = shop_data[feature_columns].values\n",
    "y = shop_data['Gender'].values"
   ]
  },
  {
   "cell_type": "code",
   "execution_count": 10,
   "id": "0632fe01",
   "metadata": {},
   "outputs": [],
   "source": [
    "#Data Splitting\n",
    "Xtrain, Xtest, Ytrain, Ytest = train_test_split(X, y, test_size=0.30, random_state=42)"
   ]
  },
  {
   "cell_type": "code",
   "execution_count": 11,
   "id": "d8731b25",
   "metadata": {},
   "outputs": [],
   "source": [
    "#spliting data into validation train and validation test\n",
    "Xt, Xcv, Yt, Ycv = train_test_split(Xtrain, Ytrain, test_size=0.10, random_state=42)"
   ]
  },
  {
   "cell_type": "code",
   "execution_count": 12,
   "id": "12bf8451",
   "metadata": {},
   "outputs": [
    {
     "data": {
      "text/plain": [
       "[Text(0.8550104307147673, 0.975, 'X[0] <= 49.5\\ngini = 0.5\\nsamples = 252\\nvalue = [129, 123]'),\n",
       " Text(0.7315987440997977, 0.925, 'X[2] <= 107000.0\\ngini = 0.5\\nsamples = 221\\nvalue = [108, 113]'),\n",
       " Text(0.6196371375590021, 0.875, 'X[2] <= 86500.0\\ngini = 0.498\\nsamples = 189\\nvalue = [88, 101]'),\n",
       " Text(0.47663098449089686, 0.825, 'X[2] <= 81500.0\\ngini = 0.5\\nsamples = 167\\nvalue = [83, 84]'),\n",
       " Text(0.2337744436952124, 0.775, 'X[0] <= 28.5\\ngini = 0.499\\nsamples = 154\\nvalue = [73, 81]'),\n",
       " Text(0.13553607552258934, 0.725, 'X[0] <= 26.5\\ngini = 0.48\\nsamples = 35\\nvalue = [21, 14]'),\n",
       " Text(0.07147673634524612, 0.675, 'X[2] <= 25500.0\\ngini = 0.497\\nsamples = 28\\nvalue = [15, 13]'),\n",
       " Text(0.03236682400539447, 0.625, 'X[2] <= 17000.0\\ngini = 0.32\\nsamples = 5\\nvalue = [1, 4]'),\n",
       " Text(0.02157788267026298, 0.575, 'X[0] <= 23.5\\ngini = 0.5\\nsamples = 2\\nvalue = [1, 1]'),\n",
       " Text(0.01078894133513149, 0.525, 'gini = 0.0\\nsamples = 1\\nvalue = [1, 0]'),\n",
       " Text(0.03236682400539447, 0.525, 'gini = 0.0\\nsamples = 1\\nvalue = [0, 1]'),\n",
       " Text(0.04315576534052596, 0.575, 'gini = 0.0\\nsamples = 3\\nvalue = [0, 3]'),\n",
       " Text(0.11058664868509778, 0.625, 'X[2] <= 53500.0\\ngini = 0.476\\nsamples = 23\\nvalue = [14, 9]'),\n",
       " Text(0.06473364801078894, 0.575, 'X[0] <= 24.5\\ngini = 0.32\\nsamples = 10\\nvalue = [8, 2]'),\n",
       " Text(0.05394470667565745, 0.525, 'gini = 0.0\\nsamples = 6\\nvalue = [6, 0]'),\n",
       " Text(0.07552258934592043, 0.525, 'X[2] <= 34000.0\\ngini = 0.5\\nsamples = 4\\nvalue = [2, 2]'),\n",
       " Text(0.06473364801078894, 0.475, 'gini = 0.0\\nsamples = 2\\nvalue = [0, 2]'),\n",
       " Text(0.08631153068105192, 0.475, 'gini = 0.0\\nsamples = 2\\nvalue = [2, 0]'),\n",
       " Text(0.1564396493594066, 0.575, 'X[2] <= 74000.0\\ngini = 0.497\\nsamples = 13\\nvalue = [6, 7]'),\n",
       " Text(0.1294672960215779, 0.525, 'X[2] <= 64500.0\\ngini = 0.494\\nsamples = 9\\nvalue = [5, 4]'),\n",
       " Text(0.1078894133513149, 0.475, 'X[0] <= 22.5\\ngini = 0.48\\nsamples = 5\\nvalue = [2, 3]'),\n",
       " Text(0.09710047201618341, 0.425, 'gini = 0.0\\nsamples = 2\\nvalue = [2, 0]'),\n",
       " Text(0.11867835468644639, 0.425, 'gini = 0.0\\nsamples = 3\\nvalue = [0, 3]'),\n",
       " Text(0.15104517869184086, 0.475, 'X[2] <= 70000.0\\ngini = 0.375\\nsamples = 4\\nvalue = [3, 1]'),\n",
       " Text(0.14025623735670936, 0.425, 'gini = 0.0\\nsamples = 2\\nvalue = [2, 0]'),\n",
       " Text(0.16183412002697237, 0.425, 'X[0] <= 23.5\\ngini = 0.5\\nsamples = 2\\nvalue = [1, 1]'),\n",
       " Text(0.15104517869184086, 0.375, 'gini = 0.0\\nsamples = 1\\nvalue = [0, 1]'),\n",
       " Text(0.17262306136210384, 0.375, 'gini = 0.0\\nsamples = 1\\nvalue = [1, 0]'),\n",
       " Text(0.18341200269723534, 0.525, 'X[2] <= 78000.0\\ngini = 0.375\\nsamples = 4\\nvalue = [1, 3]'),\n",
       " Text(0.17262306136210384, 0.475, 'gini = 0.0\\nsamples = 1\\nvalue = [0, 1]'),\n",
       " Text(0.19420094403236682, 0.475, 'X[2] <= 80500.0\\ngini = 0.444\\nsamples = 3\\nvalue = [1, 2]'),\n",
       " Text(0.18341200269723534, 0.425, 'gini = 0.5\\nsamples = 2\\nvalue = [1, 1]'),\n",
       " Text(0.20498988536749832, 0.425, 'gini = 0.0\\nsamples = 1\\nvalue = [0, 1]'),\n",
       " Text(0.19959541469993258, 0.675, 'X[2] <= 34500.0\\ngini = 0.245\\nsamples = 7\\nvalue = [6, 1]'),\n",
       " Text(0.18880647336480108, 0.625, 'X[0] <= 27.5\\ngini = 0.5\\nsamples = 2\\nvalue = [1, 1]'),\n",
       " Text(0.17801753202966958, 0.575, 'gini = 0.0\\nsamples = 1\\nvalue = [1, 0]'),\n",
       " Text(0.19959541469993258, 0.575, 'gini = 0.0\\nsamples = 1\\nvalue = [0, 1]'),\n",
       " Text(0.21038435603506406, 0.625, 'gini = 0.0\\nsamples = 5\\nvalue = [5, 0]'),\n",
       " Text(0.3320128118678355, 0.725, 'X[0] <= 32.5\\ngini = 0.492\\nsamples = 119\\nvalue = [52, 67]'),\n",
       " Text(0.24275118004045854, 0.675, 'X[2] <= 16000.0\\ngini = 0.391\\nsamples = 15\\nvalue = [4, 11]'),\n",
       " Text(0.23196223870532703, 0.625, 'gini = 0.0\\nsamples = 1\\nvalue = [1, 0]'),\n",
       " Text(0.25354012137559, 0.625, 'X[2] <= 45000.0\\ngini = 0.337\\nsamples = 14\\nvalue = [3, 11]'),\n",
       " Text(0.24275118004045854, 0.575, 'gini = 0.0\\nsamples = 6\\nvalue = [0, 6]'),\n",
       " Text(0.2643290627107215, 0.575, 'X[2] <= 48000.0\\ngini = 0.469\\nsamples = 8\\nvalue = [3, 5]'),\n",
       " Text(0.25354012137559, 0.525, 'gini = 0.0\\nsamples = 1\\nvalue = [1, 0]'),\n",
       " Text(0.275118004045853, 0.525, 'X[2] <= 67000.0\\ngini = 0.408\\nsamples = 7\\nvalue = [2, 5]'),\n",
       " Text(0.2643290627107215, 0.475, 'gini = 0.0\\nsamples = 3\\nvalue = [0, 3]'),\n",
       " Text(0.2859069453809845, 0.475, 'X[2] <= 71500.0\\ngini = 0.5\\nsamples = 4\\nvalue = [2, 2]'),\n",
       " Text(0.275118004045853, 0.425, 'gini = 0.0\\nsamples = 1\\nvalue = [1, 0]'),\n",
       " Text(0.29669588671611596, 0.425, 'X[0] <= 29.5\\ngini = 0.444\\nsamples = 3\\nvalue = [1, 2]'),\n",
       " Text(0.2859069453809845, 0.375, 'gini = 0.0\\nsamples = 1\\nvalue = [0, 1]'),\n",
       " Text(0.3074848280512475, 0.375, 'X[2] <= 79500.0\\ngini = 0.5\\nsamples = 2\\nvalue = [1, 1]'),\n",
       " Text(0.29669588671611596, 0.325, 'gini = 0.0\\nsamples = 1\\nvalue = [1, 0]'),\n",
       " Text(0.31827376938637897, 0.325, 'gini = 0.0\\nsamples = 1\\nvalue = [0, 1]'),\n",
       " Text(0.4212744436952124, 0.675, 'X[2] <= 79500.0\\ngini = 0.497\\nsamples = 104\\nvalue = [48, 56]'),\n",
       " Text(0.4104855023600809, 0.625, 'X[0] <= 34.5\\ngini = 0.494\\nsamples = 101\\nvalue = [45, 56]'),\n",
       " Text(0.3074848280512475, 0.575, 'X[2] <= 42000.0\\ngini = 0.375\\nsamples = 8\\nvalue = [6, 2]'),\n",
       " Text(0.29669588671611596, 0.525, 'gini = 0.0\\nsamples = 3\\nvalue = [3, 0]'),\n",
       " Text(0.31827376938637897, 0.525, 'X[2] <= 51500.0\\ngini = 0.48\\nsamples = 5\\nvalue = [3, 2]'),\n",
       " Text(0.3074848280512475, 0.475, 'gini = 0.0\\nsamples = 2\\nvalue = [0, 2]'),\n",
       " Text(0.32906271072151044, 0.475, 'gini = 0.0\\nsamples = 3\\nvalue = [3, 0]'),\n",
       " Text(0.5134861766689144, 0.575, 'X[2] <= 50500.0\\ngini = 0.487\\nsamples = 93\\nvalue = [39, 54]'),\n",
       " Text(0.3937963587322994, 0.525, 'X[0] <= 36.5\\ngini = 0.498\\nsamples = 32\\nvalue = [17, 15]'),\n",
       " Text(0.35064059339177345, 0.475, 'X[2] <= 22500.0\\ngini = 0.444\\nsamples = 9\\nvalue = [3, 6]'),\n",
       " Text(0.3398516520566419, 0.425, 'gini = 0.0\\nsamples = 2\\nvalue = [0, 2]'),\n",
       " Text(0.3614295347269049, 0.425, 'X[2] <= 29000.0\\ngini = 0.49\\nsamples = 7\\nvalue = [3, 4]'),\n",
       " Text(0.35064059339177345, 0.375, 'gini = 0.0\\nsamples = 2\\nvalue = [2, 0]'),\n",
       " Text(0.3722184760620364, 0.375, 'X[2] <= 41500.0\\ngini = 0.32\\nsamples = 5\\nvalue = [1, 4]'),\n",
       " Text(0.3614295347269049, 0.325, 'gini = 0.0\\nsamples = 3\\nvalue = [0, 3]'),\n",
       " Text(0.3830074173971679, 0.325, 'X[2] <= 47000.0\\ngini = 0.5\\nsamples = 2\\nvalue = [1, 1]'),\n",
       " Text(0.3722184760620364, 0.275, 'gini = 0.0\\nsamples = 1\\nvalue = [1, 0]'),\n",
       " Text(0.3937963587322994, 0.275, 'gini = 0.0\\nsamples = 1\\nvalue = [0, 1]'),\n",
       " Text(0.43695212407282535, 0.475, 'X[2] <= 29000.0\\ngini = 0.476\\nsamples = 23\\nvalue = [14, 9]'),\n",
       " Text(0.4045853000674309, 0.425, 'X[2] <= 22500.0\\ngini = 0.32\\nsamples = 5\\nvalue = [1, 4]'),\n",
       " Text(0.3937963587322994, 0.375, 'gini = 0.5\\nsamples = 2\\nvalue = [1, 1]'),\n",
       " Text(0.41537424140256235, 0.375, 'gini = 0.0\\nsamples = 3\\nvalue = [0, 3]'),\n",
       " Text(0.46931894807821983, 0.425, 'X[1] <= 0.5\\ngini = 0.401\\nsamples = 18\\nvalue = [13, 5]'),\n",
       " Text(0.43695212407282535, 0.375, 'X[0] <= 38.5\\ngini = 0.494\\nsamples = 9\\nvalue = [5, 4]'),\n",
       " Text(0.4261631827376939, 0.325, 'gini = 0.0\\nsamples = 3\\nvalue = [3, 0]'),\n",
       " Text(0.44774106540795683, 0.325, 'X[2] <= 36000.0\\ngini = 0.444\\nsamples = 6\\nvalue = [2, 4]'),\n",
       " Text(0.43695212407282535, 0.275, 'gini = 0.0\\nsamples = 1\\nvalue = [1, 0]'),\n",
       " Text(0.45853000674308836, 0.275, 'X[2] <= 46000.0\\ngini = 0.32\\nsamples = 5\\nvalue = [1, 4]'),\n",
       " Text(0.44774106540795683, 0.225, 'gini = 0.0\\nsamples = 3\\nvalue = [0, 3]'),\n",
       " Text(0.46931894807821983, 0.225, 'X[0] <= 43.5\\ngini = 0.5\\nsamples = 2\\nvalue = [1, 1]'),\n",
       " Text(0.45853000674308836, 0.175, 'gini = 0.0\\nsamples = 1\\nvalue = [0, 1]'),\n",
       " Text(0.4801078894133513, 0.175, 'gini = 0.0\\nsamples = 1\\nvalue = [1, 0]'),\n",
       " Text(0.5016857720836143, 0.375, 'X[0] <= 47.5\\ngini = 0.198\\nsamples = 9\\nvalue = [8, 1]'),\n",
       " Text(0.4908968307484828, 0.325, 'gini = 0.0\\nsamples = 5\\nvalue = [5, 0]'),\n",
       " Text(0.5124747134187457, 0.325, 'X[2] <= 34000.0\\ngini = 0.375\\nsamples = 4\\nvalue = [3, 1]'),\n",
       " Text(0.5016857720836143, 0.275, 'X[2] <= 31500.0\\ngini = 0.5\\nsamples = 2\\nvalue = [1, 1]'),\n",
       " Text(0.4908968307484828, 0.225, 'gini = 0.0\\nsamples = 1\\nvalue = [1, 0]'),\n",
       " Text(0.5124747134187457, 0.225, 'gini = 0.0\\nsamples = 1\\nvalue = [0, 1]'),\n",
       " Text(0.5232636547538773, 0.275, 'gini = 0.0\\nsamples = 2\\nvalue = [2, 0]'),\n",
       " Text(0.6331759946055293, 0.525, 'X[2] <= 59500.0\\ngini = 0.461\\nsamples = 61\\nvalue = [22, 39]'),\n",
       " Text(0.5826028320971005, 0.475, 'X[0] <= 37.5\\ngini = 0.133\\nsamples = 14\\nvalue = [1, 13]'),\n",
       " Text(0.571813890761969, 0.425, 'X[0] <= 36.5\\ngini = 0.32\\nsamples = 5\\nvalue = [1, 4]'),\n",
       " Text(0.5610249494268374, 0.375, 'gini = 0.0\\nsamples = 4\\nvalue = [0, 4]'),\n",
       " Text(0.5826028320971005, 0.375, 'gini = 0.0\\nsamples = 1\\nvalue = [1, 0]'),\n",
       " Text(0.5933917734322319, 0.425, 'gini = 0.0\\nsamples = 9\\nvalue = [0, 9]'),\n",
       " Text(0.6837491571139582, 0.475, 'X[0] <= 43.5\\ngini = 0.494\\nsamples = 47\\nvalue = [21, 26]'),\n",
       " Text(0.6729602157788267, 0.425, 'X[0] <= 38.5\\ngini = 0.5\\nsamples = 43\\nvalue = [21, 22]'),\n",
       " Text(0.6041807147673635, 0.375, 'X[0] <= 36.5\\ngini = 0.432\\nsamples = 19\\nvalue = [6, 13]'),\n",
       " Text(0.5664194200944033, 0.325, 'X[2] <= 71500.0\\ngini = 0.5\\nsamples = 10\\nvalue = [5, 5]'),\n",
       " Text(0.5448415374241402, 0.275, 'X[2] <= 61500.0\\ngini = 0.375\\nsamples = 4\\nvalue = [3, 1]'),\n",
       " Text(0.5340525960890088, 0.225, 'X[0] <= 35.5\\ngini = 0.5\\nsamples = 2\\nvalue = [1, 1]'),\n",
       " Text(0.5232636547538773, 0.175, 'gini = 0.0\\nsamples = 1\\nvalue = [1, 0]'),\n",
       " Text(0.5448415374241402, 0.175, 'gini = 0.0\\nsamples = 1\\nvalue = [0, 1]'),\n",
       " Text(0.5556304787592717, 0.225, 'gini = 0.0\\nsamples = 2\\nvalue = [2, 0]'),\n",
       " Text(0.5879973027646662, 0.275, 'X[0] <= 35.5\\ngini = 0.444\\nsamples = 6\\nvalue = [2, 4]'),\n",
       " Text(0.5772083614295347, 0.225, 'X[2] <= 76000.0\\ngini = 0.32\\nsamples = 5\\nvalue = [1, 4]'),\n",
       " Text(0.5664194200944033, 0.175, 'gini = 0.0\\nsamples = 3\\nvalue = [0, 3]'),\n",
       " Text(0.5879973027646662, 0.175, 'X[2] <= 78000.0\\ngini = 0.5\\nsamples = 2\\nvalue = [1, 1]'),\n",
       " Text(0.5772083614295347, 0.125, 'gini = 0.0\\nsamples = 1\\nvalue = [1, 0]'),\n",
       " Text(0.5987862440997977, 0.125, 'gini = 0.0\\nsamples = 1\\nvalue = [0, 1]'),\n",
       " Text(0.5987862440997977, 0.225, 'gini = 0.0\\nsamples = 1\\nvalue = [1, 0]'),\n",
       " Text(0.6419420094403236, 0.325, 'X[2] <= 71500.0\\ngini = 0.198\\nsamples = 9\\nvalue = [1, 8]'),\n",
       " Text(0.6311530681051922, 0.275, 'X[0] <= 37.5\\ngini = 0.32\\nsamples = 5\\nvalue = [1, 4]'),\n",
       " Text(0.6203641267700607, 0.225, 'X[2] <= 70500.0\\ngini = 0.5\\nsamples = 2\\nvalue = [1, 1]'),\n",
       " Text(0.6095751854349292, 0.175, 'gini = 0.0\\nsamples = 1\\nvalue = [0, 1]'),\n",
       " Text(0.6311530681051922, 0.175, 'gini = 0.0\\nsamples = 1\\nvalue = [1, 0]'),\n",
       " Text(0.6419420094403236, 0.225, 'gini = 0.0\\nsamples = 3\\nvalue = [0, 3]'),\n",
       " Text(0.6527309507754552, 0.275, 'gini = 0.0\\nsamples = 4\\nvalue = [0, 4]'),\n",
       " Text(0.7417397167902899, 0.375, 'X[2] <= 76000.0\\ngini = 0.469\\nsamples = 24\\nvalue = [15, 9]'),\n",
       " Text(0.7120701281186783, 0.325, 'X[1] <= 0.5\\ngini = 0.42\\nsamples = 20\\nvalue = [14, 6]'),\n",
       " Text(0.6850977747808497, 0.275, 'X[2] <= 67500.0\\ngini = 0.36\\nsamples = 17\\nvalue = [13, 4]'),\n",
       " Text(0.6635198921105866, 0.225, 'X[2] <= 64000.0\\ngini = 0.49\\nsamples = 7\\nvalue = [4, 3]'),\n",
       " Text(0.6527309507754552, 0.175, 'X[0] <= 40.5\\ngini = 0.32\\nsamples = 5\\nvalue = [4, 1]'),\n",
       " Text(0.6419420094403236, 0.125, 'X[0] <= 39.5\\ngini = 0.444\\nsamples = 3\\nvalue = [2, 1]'),\n",
       " Text(0.6311530681051922, 0.075, 'gini = 0.0\\nsamples = 1\\nvalue = [1, 0]'),\n",
       " Text(0.6527309507754552, 0.075, 'X[2] <= 60500.0\\ngini = 0.5\\nsamples = 2\\nvalue = [1, 1]'),\n",
       " Text(0.6419420094403236, 0.025, 'gini = 0.0\\nsamples = 1\\nvalue = [1, 0]'),\n",
       " Text(0.6635198921105866, 0.025, 'gini = 0.0\\nsamples = 1\\nvalue = [0, 1]'),\n",
       " Text(0.6635198921105866, 0.125, 'gini = 0.0\\nsamples = 2\\nvalue = [2, 0]'),\n",
       " Text(0.6743088334457181, 0.175, 'gini = 0.0\\nsamples = 2\\nvalue = [0, 2]'),\n",
       " Text(0.7066756574511126, 0.225, 'X[0] <= 40.5\\ngini = 0.18\\nsamples = 10\\nvalue = [9, 1]'),\n",
       " Text(0.6958867161159811, 0.175, 'gini = 0.0\\nsamples = 3\\nvalue = [3, 0]'),\n",
       " Text(0.7174645987862441, 0.175, 'X[0] <= 41.5\\ngini = 0.245\\nsamples = 7\\nvalue = [6, 1]'),\n",
       " Text(0.7066756574511126, 0.125, 'X[2] <= 71500.0\\ngini = 0.32\\nsamples = 5\\nvalue = [4, 1]'),\n",
       " Text(0.6958867161159811, 0.075, 'gini = 0.0\\nsamples = 1\\nvalue = [1, 0]'),\n",
       " Text(0.7174645987862441, 0.075, 'gini = 0.375\\nsamples = 4\\nvalue = [3, 1]'),\n",
       " Text(0.7282535401213756, 0.125, 'gini = 0.0\\nsamples = 2\\nvalue = [2, 0]'),\n",
       " Text(0.7390424814565071, 0.275, 'X[2] <= 74000.0\\ngini = 0.444\\nsamples = 3\\nvalue = [1, 2]'),\n",
       " Text(0.7282535401213756, 0.225, 'gini = 0.0\\nsamples = 2\\nvalue = [0, 2]'),\n",
       " Text(0.7498314227916386, 0.225, 'gini = 0.0\\nsamples = 1\\nvalue = [1, 0]'),\n",
       " Text(0.7714093054619016, 0.325, 'X[0] <= 41.5\\ngini = 0.375\\nsamples = 4\\nvalue = [1, 3]'),\n",
       " Text(0.76062036412677, 0.275, 'gini = 0.0\\nsamples = 3\\nvalue = [0, 3]'),\n",
       " Text(0.7821982467970331, 0.275, 'gini = 0.0\\nsamples = 1\\nvalue = [1, 0]'),\n",
       " Text(0.6945380984490896, 0.425, 'gini = 0.0\\nsamples = 4\\nvalue = [0, 4]'),\n",
       " Text(0.4320633850303439, 0.625, 'gini = 0.0\\nsamples = 3\\nvalue = [3, 0]'),\n",
       " Text(0.7194875252865812, 0.775, 'X[0] <= 25.0\\ngini = 0.355\\nsamples = 13\\nvalue = [10, 3]'),\n",
       " Text(0.7086985839514498, 0.725, 'X[0] <= 23.5\\ngini = 0.49\\nsamples = 7\\nvalue = [4, 3]'),\n",
       " Text(0.6979096426163183, 0.675, 'X[0] <= 21.5\\ngini = 0.444\\nsamples = 6\\nvalue = [4, 2]'),\n",
       " Text(0.6871207012811867, 0.625, 'X[2] <= 84000.0\\ngini = 0.48\\nsamples = 5\\nvalue = [3, 2]'),\n",
       " Text(0.6655428186109238, 0.575, 'X[0] <= 19.0\\ngini = 0.444\\nsamples = 3\\nvalue = [2, 1]'),\n",
       " Text(0.6547538772757923, 0.525, 'gini = 0.0\\nsamples = 1\\nvalue = [0, 1]'),\n",
       " Text(0.6763317599460553, 0.525, 'gini = 0.0\\nsamples = 2\\nvalue = [2, 0]'),\n",
       " Text(0.7086985839514498, 0.575, 'X[0] <= 19.0\\ngini = 0.5\\nsamples = 2\\nvalue = [1, 1]'),\n",
       " Text(0.6979096426163183, 0.525, 'gini = 0.0\\nsamples = 1\\nvalue = [1, 0]'),\n",
       " Text(0.7194875252865812, 0.525, 'gini = 0.0\\nsamples = 1\\nvalue = [0, 1]'),\n",
       " Text(0.7086985839514498, 0.625, 'gini = 0.0\\nsamples = 1\\nvalue = [1, 0]'),\n",
       " Text(0.7194875252865812, 0.675, 'gini = 0.0\\nsamples = 1\\nvalue = [0, 1]'),\n",
       " Text(0.7302764666217127, 0.725, 'gini = 0.0\\nsamples = 6\\nvalue = [6, 0]'),\n",
       " Text(0.7626432906271072, 0.825, 'X[0] <= 24.5\\ngini = 0.351\\nsamples = 22\\nvalue = [5, 17]'),\n",
       " Text(0.7518543492919757, 0.775, 'gini = 0.0\\nsamples = 1\\nvalue = [1, 0]'),\n",
       " Text(0.7734322319622388, 0.775, 'X[2] <= 93500.0\\ngini = 0.308\\nsamples = 21\\nvalue = [4, 17]'),\n",
       " Text(0.7518543492919757, 0.725, 'X[0] <= 33.0\\ngini = 0.142\\nsamples = 13\\nvalue = [1, 12]'),\n",
       " Text(0.7410654079568443, 0.675, 'X[0] <= 30.5\\ngini = 0.278\\nsamples = 6\\nvalue = [1, 5]'),\n",
       " Text(0.7302764666217127, 0.625, 'gini = 0.0\\nsamples = 5\\nvalue = [0, 5]'),\n",
       " Text(0.7518543492919757, 0.625, 'gini = 0.0\\nsamples = 1\\nvalue = [1, 0]'),\n",
       " Text(0.7626432906271072, 0.675, 'gini = 0.0\\nsamples = 7\\nvalue = [0, 7]'),\n",
       " Text(0.7950101146325017, 0.725, 'X[2] <= 98500.0\\ngini = 0.469\\nsamples = 8\\nvalue = [3, 5]'),\n",
       " Text(0.7842211732973702, 0.675, 'X[0] <= 37.0\\ngini = 0.375\\nsamples = 4\\nvalue = [3, 1]'),\n",
       " Text(0.7734322319622388, 0.625, 'gini = 0.0\\nsamples = 2\\nvalue = [2, 0]'),\n",
       " Text(0.7950101146325017, 0.625, 'X[0] <= 42.5\\ngini = 0.5\\nsamples = 2\\nvalue = [1, 1]'),\n",
       " Text(0.7842211732973702, 0.575, 'gini = 0.0\\nsamples = 1\\nvalue = [0, 1]'),\n",
       " Text(0.8057990559676331, 0.575, 'gini = 0.0\\nsamples = 1\\nvalue = [1, 0]'),\n",
       " Text(0.8057990559676331, 0.675, 'gini = 0.0\\nsamples = 4\\nvalue = [0, 4]'),\n",
       " Text(0.8435603506405934, 0.875, 'X[0] <= 29.5\\ngini = 0.469\\nsamples = 32\\nvalue = [20, 12]'),\n",
       " Text(0.8327714093054619, 0.825, 'gini = 0.0\\nsamples = 2\\nvalue = [0, 2]'),\n",
       " Text(0.8543492919757248, 0.825, 'X[2] <= 114000.0\\ngini = 0.444\\nsamples = 30\\nvalue = [20, 10]'),\n",
       " Text(0.8435603506405934, 0.775, 'gini = 0.0\\nsamples = 3\\nvalue = [3, 0]'),\n",
       " Text(0.8651382333108564, 0.775, 'X[0] <= 33.5\\ngini = 0.466\\nsamples = 27\\nvalue = [17, 10]'),\n",
       " Text(0.8381658799730276, 0.725, 'X[0] <= 30.5\\ngini = 0.245\\nsamples = 7\\nvalue = [6, 1]'),\n",
       " Text(0.8273769386378962, 0.675, 'X[2] <= 125500.0\\ngini = 0.5\\nsamples = 2\\nvalue = [1, 1]'),\n",
       " Text(0.8165879973027647, 0.625, 'gini = 0.0\\nsamples = 1\\nvalue = [1, 0]'),\n",
       " Text(0.8381658799730276, 0.625, 'gini = 0.0\\nsamples = 1\\nvalue = [0, 1]'),\n",
       " Text(0.8489548213081591, 0.675, 'gini = 0.0\\nsamples = 5\\nvalue = [5, 0]'),\n",
       " Text(0.8921105866486851, 0.725, 'X[2] <= 125500.0\\ngini = 0.495\\nsamples = 20\\nvalue = [11, 9]'),\n",
       " Text(0.8705327039784221, 0.675, 'X[0] <= 47.0\\ngini = 0.278\\nsamples = 6\\nvalue = [1, 5]'),\n",
       " Text(0.8597437626432907, 0.625, 'gini = 0.0\\nsamples = 5\\nvalue = [0, 5]'),\n",
       " Text(0.8813216453135536, 0.625, 'gini = 0.0\\nsamples = 1\\nvalue = [1, 0]'),\n",
       " Text(0.9136884693189481, 0.675, 'X[2] <= 148000.0\\ngini = 0.408\\nsamples = 14\\nvalue = [10, 4]'),\n",
       " Text(0.9028995279838166, 0.625, 'X[0] <= 38.0\\ngini = 0.355\\nsamples = 13\\nvalue = [10, 3]'),\n",
       " Text(0.8921105866486851, 0.575, 'gini = 0.0\\nsamples = 4\\nvalue = [4, 0]'),\n",
       " Text(0.9136884693189481, 0.575, 'X[0] <= 39.5\\ngini = 0.444\\nsamples = 9\\nvalue = [6, 3]'),\n",
       " Text(0.9028995279838166, 0.525, 'gini = 0.0\\nsamples = 1\\nvalue = [0, 1]'),\n",
       " Text(0.9244774106540796, 0.525, 'X[2] <= 130000.0\\ngini = 0.375\\nsamples = 8\\nvalue = [6, 2]'),\n",
       " Text(0.9136884693189481, 0.475, 'gini = 0.0\\nsamples = 1\\nvalue = [0, 1]'),\n",
       " Text(0.935266351989211, 0.475, 'X[1] <= 0.5\\ngini = 0.245\\nsamples = 7\\nvalue = [6, 1]'),\n",
       " Text(0.9244774106540796, 0.425, 'X[0] <= 45.5\\ngini = 0.5\\nsamples = 2\\nvalue = [1, 1]'),\n",
       " Text(0.9136884693189481, 0.375, 'gini = 0.0\\nsamples = 1\\nvalue = [1, 0]'),\n",
       " Text(0.935266351989211, 0.375, 'gini = 0.0\\nsamples = 1\\nvalue = [0, 1]'),\n",
       " Text(0.9460552933243426, 0.425, 'gini = 0.0\\nsamples = 5\\nvalue = [5, 0]'),\n",
       " Text(0.9244774106540796, 0.625, 'gini = 0.0\\nsamples = 1\\nvalue = [0, 1]'),\n",
       " Text(0.978422117329737, 0.925, 'X[2] <= 138500.0\\ngini = 0.437\\nsamples = 31\\nvalue = [21, 10]'),\n",
       " Text(0.9676331759946055, 0.875, 'X[2] <= 85500.0\\ngini = 0.375\\nsamples = 28\\nvalue = [21, 7]'),\n",
       " Text(0.956844234659474, 0.825, 'X[2] <= 53500.0\\ngini = 0.465\\nsamples = 19\\nvalue = [12, 7]'),\n",
       " Text(0.935266351989211, 0.775, 'X[0] <= 59.5\\ngini = 0.26\\nsamples = 13\\nvalue = [11, 2]'),\n",
       " Text(0.9244774106540796, 0.725, 'gini = 0.0\\nsamples = 10\\nvalue = [10, 0]'),\n",
       " Text(0.9460552933243426, 0.725, 'X[2] <= 44000.0\\ngini = 0.444\\nsamples = 3\\nvalue = [1, 2]'),\n",
       " Text(0.935266351989211, 0.675, 'gini = 0.0\\nsamples = 2\\nvalue = [0, 2]'),\n",
       " Text(0.956844234659474, 0.675, 'gini = 0.0\\nsamples = 1\\nvalue = [1, 0]'),\n",
       " Text(0.978422117329737, 0.775, 'X[1] <= 0.5\\ngini = 0.278\\nsamples = 6\\nvalue = [1, 5]'),\n",
       " Text(0.9676331759946055, 0.725, 'gini = 0.0\\nsamples = 1\\nvalue = [1, 0]'),\n",
       " Text(0.9892110586648685, 0.725, 'gini = 0.0\\nsamples = 5\\nvalue = [0, 5]'),\n",
       " Text(0.978422117329737, 0.825, 'gini = 0.0\\nsamples = 9\\nvalue = [9, 0]'),\n",
       " Text(0.9892110586648685, 0.875, 'gini = 0.0\\nsamples = 3\\nvalue = [0, 3]')]"
      ]
     },
     "execution_count": 12,
     "metadata": {},
     "output_type": "execute_result"
    },
    {
     "data": {
      "image/png": "[encoded data removed]",
      "text/plain": [
       "<Figure size 640x480 with 1 Axes>"
      ]
     },
     "metadata": {},
     "output_type": "display_data"
    }
   ],
   "source": [
    "#Creating the decsion tree\n",
    "Iris_clf = DecisionTreeClassifier(criterion='gini',min_samples_split=2)\n",
    "Iris_clf.fit(Xt, Yt)\n",
    "#Visualized the Tree which is formed on train dataset\n",
    "tree.plot_tree(Iris_clf)"
   ]
  },
  {
   "cell_type": "code",
   "execution_count": 13,
   "id": "586525b3",
   "metadata": {},
   "outputs": [
    {
     "name": "stdout",
     "output_type": "stream",
     "text": [
      "Accuracy score is: 0.507936507936508\n"
     ]
    }
   ],
   "source": [
    "#Accuracy\n",
    "print('Accuracy score is:',cross_val_score(Iris_clf, Xt, Yt, cv=3, scoring='accuracy').mean())"
   ]
  },
  {
   "cell_type": "code",
   "execution_count": 14,
   "id": "a6e84391",
   "metadata": {},
   "outputs": [],
   "source": [
    "#Checking validation test data on our trained model and getting performance metrices\n",
    "from sklearn.metrics import multilabel_confusion_matrix, accuracy_score\n",
    "Y_hat = Iris_clf.predict(Xcv)"
   ]
  },
  {
   "cell_type": "code",
   "execution_count": 15,
   "id": "f6d06b9f",
   "metadata": {},
   "outputs": [
    {
     "name": "stdout",
     "output_type": "stream",
     "text": [
      "Accuracy score for validation test data is: 0.5\n"
     ]
    },
    {
     "data": {
      "text/plain": [
       "array([[[8, 6],\n",
       "        [8, 6]],\n",
       "\n",
       "       [[6, 8],\n",
       "        [6, 8]]])"
      ]
     },
     "execution_count": 15,
     "metadata": {},
     "output_type": "execute_result"
    }
   ],
   "source": [
    "print('Accuracy score for validation test data is:',accuracy_score(Ycv, Y_hat))\n",
    "multilabel_confusion_matrix(Ycv , Y_hat)"
   ]
  },
  {
   "cell_type": "code",
   "execution_count": 16,
   "id": "b3402d51",
   "metadata": {},
   "outputs": [
    {
     "data": {
      "text/plain": [
       "array(['Female', 'Female', 'Female', 'Female', 'Male', 'Male', 'Male',\n",
       "       'Female', 'Female', 'Male', 'Female', 'Female', 'Female', 'Male',\n",
       "       'Male', 'Female', 'Female', 'Male', 'Male', 'Male', 'Female',\n",
       "       'Male', 'Male', 'Male', 'Male', 'Female', 'Female', 'Female',\n",
       "       'Female', 'Male', 'Female', 'Female', 'Female', 'Female', 'Male',\n",
       "       'Male', 'Female', 'Male', 'Male', 'Female', 'Male', 'Male',\n",
       "       'Female', 'Female', 'Female', 'Female', 'Male', 'Female', 'Female',\n",
       "       'Male', 'Female', 'Male', 'Male', 'Female', 'Female', 'Female',\n",
       "       'Female', 'Male', 'Female', 'Female', 'Male', 'Male', 'Female',\n",
       "       'Male', 'Female', 'Male', 'Male', 'Female', 'Male', 'Female',\n",
       "       'Female', 'Female', 'Female', 'Male', 'Female', 'Male', 'Female',\n",
       "       'Female', 'Female', 'Male', 'Female', 'Male', 'Male', 'Male',\n",
       "       'Female', 'Female', 'Male', 'Male', 'Female', 'Male', 'Female',\n",
       "       'Male', 'Male', 'Female', 'Male', 'Male', 'Female', 'Female',\n",
       "       'Male', 'Female', 'Female', 'Female', 'Male', 'Male', 'Male',\n",
       "       'Female', 'Male', 'Male', 'Male', 'Male', 'Female', 'Female',\n",
       "       'Female', 'Female', 'Female', 'Female', 'Male', 'Male', 'Male',\n",
       "       'Female'], dtype=object)"
      ]
     },
     "execution_count": 16,
     "metadata": {},
     "output_type": "execute_result"
    }
   ],
   "source": [
    "YT_hat = Iris_clf.predict(Xtest)\n",
    "YT_hat"
   ]
  },
  {
   "cell_type": "code",
   "execution_count": 17,
   "id": "2eb1db3b",
   "metadata": {},
   "outputs": [
    {
     "name": "stdout",
     "output_type": "stream",
     "text": [
      "Model Accuracy Score on totally unseen data(Xtest) is: 46.666666666666664 %\n"
     ]
    },
    {
     "data": {
      "text/plain": [
       "array([[[25, 34],\n",
       "        [30, 31]],\n",
       "\n",
       "       [[31, 30],\n",
       "        [34, 25]]])"
      ]
     },
     "execution_count": 17,
     "metadata": {},
     "output_type": "execute_result"
    }
   ],
   "source": [
    "print('Model Accuracy Score on totally unseen data(Xtest) is:',accuracy_score(Ytest, YT_hat)*100,'%')\n",
    "multilabel_confusion_matrix(Ytest , YT_hat)"
   ]
  },
  {
   "cell_type": "code",
   "execution_count": 18,
   "id": "8b5fcfbf",
   "metadata": {},
   "outputs": [],
   "source": [
    "# not test actual data of 400 cause its too large"
   ]
  },
  {
   "cell_type": "code",
   "execution_count": 19,
   "id": "956ee8cd",
   "metadata": {},
   "outputs": [
    {
     "data": {
      "text/plain": [
       "array(['Male', 'Male', 'Female', 'Female', 'Male', 'Male', 'Female',\n",
       "       'Female', 'Male', 'Female', 'Female', 'Female', 'Male', 'Male',\n",
       "       'Male', 'Male', 'Male', 'Male', 'Male', 'Female', 'Male', 'Female',\n",
       "       'Male', 'Female', 'Male', 'Male', 'Male', 'Female', 'Male', 'Male',\n",
       "       'Male', 'Female', 'Female', 'Female', 'Male', 'Male', 'Female',\n",
       "       'Male', 'Female', 'Female', 'Female', 'Female', 'Male', 'Male',\n",
       "       'Female', 'Male', 'Male', 'Female', 'Male', 'Female', 'Female',\n",
       "       'Female', 'Female', 'Female', 'Female', 'Female', 'Female', 'Male',\n",
       "       'Male', 'Female', 'Male', 'Male', 'Female', 'Male', 'Female',\n",
       "       'Male', 'Male', 'Female', 'Female', 'Female', 'Male', 'Female',\n",
       "       'Female', 'Female', 'Male', 'Male', 'Male', 'Female', 'Female',\n",
       "       'Female', 'Male', 'Male', 'Male', 'Male', 'Female', 'Female',\n",
       "       'Male', 'Female', 'Male', 'Male', 'Male', 'Female', 'Male',\n",
       "       'Female', 'Female', 'Female', 'Female', 'Male', 'Male', 'Female',\n",
       "       'Male', 'Male', 'Female', 'Female', 'Female', 'Male', 'Female',\n",
       "       'Male', 'Male', 'Female', 'Female', 'Female', 'Male', 'Male',\n",
       "       'Male', 'Male', 'Male', 'Male', 'Male', 'Male', 'Female', 'Male',\n",
       "       'Female', 'Male', 'Female', 'Female', 'Male', 'Male', 'Male',\n",
       "       'Female', 'Male', 'Male', 'Male', 'Female', 'Female', 'Male',\n",
       "       'Female', 'Male', 'Female', 'Male', 'Male', 'Female', 'Male',\n",
       "       'Male', 'Female', 'Female', 'Female', 'Female', 'Male', 'Male',\n",
       "       'Female', 'Male', 'Male', 'Female', 'Male', 'Female', 'Male',\n",
       "       'Male', 'Male', 'Female', 'Male', 'Male', 'Female', 'Male',\n",
       "       'Female', 'Female', 'Female', 'Female', 'Male', 'Female', 'Male',\n",
       "       'Male', 'Female', 'Female', 'Female', 'Female', 'Female', 'Male',\n",
       "       'Male', 'Female', 'Male', 'Female', 'Female', 'Male', 'Female',\n",
       "       'Male', 'Female', 'Female', 'Male', 'Male', 'Male', 'Female',\n",
       "       'Male', 'Male', 'Male', 'Male', 'Female', 'Female', 'Male', 'Male',\n",
       "       'Male', 'Male', 'Female', 'Female', 'Female', 'Female', 'Female',\n",
       "       'Female', 'Female', 'Female', 'Female', 'Male', 'Female', 'Male',\n",
       "       'Male', 'Female', 'Male', 'Male', 'Female', 'Male', 'Female',\n",
       "       'Male', 'Male', 'Male', 'Female', 'Male', 'Female', 'Male',\n",
       "       'Female', 'Female', 'Female', 'Male', 'Male', 'Male', 'Female',\n",
       "       'Male', 'Male', 'Female', 'Female', 'Female', 'Male', 'Male',\n",
       "       'Female', 'Female', 'Female', 'Female', 'Female', 'Female', 'Male',\n",
       "       'Female', 'Female', 'Male', 'Female', 'Female', 'Female', 'Female',\n",
       "       'Female', 'Male', 'Female', 'Female', 'Female', 'Male', 'Female',\n",
       "       'Female', 'Male', 'Female', 'Male', 'Male', 'Female', 'Male',\n",
       "       'Female', 'Female', 'Male', 'Male', 'Female', 'Male', 'Male',\n",
       "       'Male', 'Female', 'Female', 'Female', 'Male', 'Male', 'Female',\n",
       "       'Male', 'Female', 'Female', 'Female', 'Male', 'Female', 'Male',\n",
       "       'Male', 'Male', 'Male', 'Female', 'Female', 'Male', 'Female',\n",
       "       'Male', 'Male', 'Female', 'Male', 'Female', 'Male', 'Female',\n",
       "       'Male', 'Female', 'Female', 'Male', 'Female', 'Female', 'Male',\n",
       "       'Female', 'Female', 'Female', 'Female', 'Female', 'Male', 'Male',\n",
       "       'Male', 'Female', 'Female', 'Male', 'Female', 'Female', 'Female',\n",
       "       'Male', 'Female', 'Male', 'Female', 'Male', 'Female', 'Male',\n",
       "       'Male', 'Male', 'Female', 'Male', 'Male', 'Female', 'Male',\n",
       "       'Female', 'Male', 'Female', 'Female', 'Male', 'Female', 'Male',\n",
       "       'Female', 'Male', 'Male', 'Female', 'Male', 'Female', 'Female',\n",
       "       'Male', 'Male', 'Male', 'Female', 'Male', 'Male', 'Male', 'Female',\n",
       "       'Female', 'Female', 'Male', 'Female', 'Female', 'Male', 'Male',\n",
       "       'Female', 'Female', 'Male', 'Female', 'Male', 'Female', 'Female',\n",
       "       'Female', 'Female', 'Male', 'Female', 'Male', 'Male', 'Female',\n",
       "       'Male', 'Female', 'Male', 'Female', 'Male', 'Male', 'Female',\n",
       "       'Male', 'Male', 'Female', 'Male', 'Female', 'Female', 'Male',\n",
       "       'Female', 'Male', 'Female'], dtype=object)"
      ]
     },
     "execution_count": 19,
     "metadata": {},
     "output_type": "execute_result"
    }
   ],
   "source": [
    "y"
   ]
  },
  {
   "cell_type": "code",
   "execution_count": null,
   "id": "1d246078",
   "metadata": {},
   "outputs": [],
   "source": []
  }
 ],
 "metadata": {
  "kernelspec": {
   "display_name": "Python 3 (ipykernel)",
   "language": "python",
   "name": "python3"
  },
  "language_info": {
   "codemirror_mode": {
    "name": "ipython",
    "version": 3
   },
   "file_extension": ".py",
   "mimetype": "text/x-python",
   "name": "python",
   "nbconvert_exporter": "python",
   "pygments_lexer": "ipython3",
   "version": "3.8.10"
  }
 },
 "nbformat": 4,
 "nbformat_minor": 5
}
